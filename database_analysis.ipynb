{
 "cells": [
  {
   "cell_type": "markdown",
   "metadata": {
    "collapsed": true
   },
   "source": [
    "[<img src=\"https://www.totallandscapecare.com/wp-content/uploads/sites/5/2016/04/ASLA-logo.jpg\" style=\"width:500px\">](https://www.asla.org/stormwatercasestudies.aspx)"
   ]
  },
  {
   "cell_type": "code",
   "execution_count": 1,
   "metadata": {},
   "outputs": [],
   "source": [
    "import warnings\n",
    "warnings.filterwarnings('ignore')\n",
    "%matplotlib inline "
   ]
  },
  {
   "cell_type": "code",
   "execution_count": 2,
   "metadata": {},
   "outputs": [],
   "source": [
    "import sys\n",
    "import types\n",
    "import pandas as pd\n",
    "pd.options.display.float_format = '{:20,.2f}'.format\n",
    "from botocore.client import Config\n",
    "import ibm_boto3\n",
    "\n",
    "def __iter__(self): return 0\n",
    "\n",
    "# @hidden_cell\n",
    "# The following code accesses a file in your IBM Cloud Object Storage. It includes your credentials.\n",
    "# You might want to remove those credentials before you share your notebook.\n",
    "client_48928a04ca8e42ed87d1026e6bbfe31a = ibm_boto3.client(service_name='s3',\n",
    "    ibm_api_key_id='cKFY8NgVSr8IZPnKreuUVxKwpoOS2EHpqYpoZ-xM69NF',\n",
    "    ibm_auth_endpoint=\"https://iam.ng.bluemix.net/oidc/token\",\n",
    "    config=Config(signature_version='oauth'),\n",
    "    endpoint_url='https://s3-api.us-geo.objectstorage.service.networklayer.com')\n",
    "\n",
    "body = client_48928a04ca8e42ed87d1026e6bbfe31a.get_object(Bucket='courseracapstone-donotdelete-pr-fxod1bkevlkezk',Key='ASLA-1.csv')['Body']\n",
    "# add missing __iter__ method, so pandas accepts body as file-like object\n",
    "if not hasattr(body, \"__iter__\"): body.__iter__ = types.MethodType( __iter__, body )\n",
    "\n",
    "asla = pd.read_csv(body)\n",
    "asla['Size/ Capture area (Sq. feet)'] = asla['Size/ Capture area (Sq. feet)'].astype(float)\n",
    "asla['GI COST (2)'] = asla['GI COST (2)'].astype(float)"
   ]
  },
  {
   "cell_type": "code",
   "execution_count": 3,
   "metadata": {},
   "outputs": [
    {
     "data": {
      "text/html": [
       "<div>\n",
       "<style scoped>\n",
       "    .dataframe tbody tr th:only-of-type {\n",
       "        vertical-align: middle;\n",
       "    }\n",
       "\n",
       "    .dataframe tbody tr th {\n",
       "        vertical-align: top;\n",
       "    }\n",
       "\n",
       "    .dataframe thead th {\n",
       "        text-align: right;\n",
       "    }\n",
       "</style>\n",
       "<table border=\"1\" class=\"dataframe\">\n",
       "  <thead>\n",
       "    <tr style=\"text-align: right;\">\n",
       "      <th></th>\n",
       "      <th>CITY</th>\n",
       "      <th>STATE</th>\n",
       "      <th>CASE STUDY TITLE</th>\n",
       "      <th>FINANCIAL SOURCE</th>\n",
       "      <th>FINANCIAL TOOL</th>\n",
       "      <th>GI PROJECT FINANCED</th>\n",
       "      <th>Size/ Capture area (Sq. feet)</th>\n",
       "      <th>GI COST (2)</th>\n",
       "    </tr>\n",
       "  </thead>\n",
       "  <tbody>\n",
       "    <tr>\n",
       "      <th>0</th>\n",
       "      <td>Cincinnati</td>\n",
       "      <td>Ohio</td>\n",
       "      <td>Lick Run</td>\n",
       "      <td>Public funding</td>\n",
       "      <td>NaN</td>\n",
       "      <td>Bioretention facility, rain garden, bioswale, ...</td>\n",
       "      <td>217,800.00</td>\n",
       "      <td>122,000,000.00</td>\n",
       "    </tr>\n",
       "    <tr>\n",
       "      <th>1</th>\n",
       "      <td>Atlanta</td>\n",
       "      <td>Georgia</td>\n",
       "      <td>Emory University Stormwater Master Plan</td>\n",
       "      <td>Private funding</td>\n",
       "      <td>NaN</td>\n",
       "      <td>Bioretention facility, rain garden, bioswale, ...</td>\n",
       "      <td>217,800.00</td>\n",
       "      <td>90,200,000.00</td>\n",
       "    </tr>\n",
       "    <tr>\n",
       "      <th>2</th>\n",
       "      <td>Portland</td>\n",
       "      <td>Oregon</td>\n",
       "      <td>Tabor To The River Program</td>\n",
       "      <td>Public funding</td>\n",
       "      <td>NaN</td>\n",
       "      <td>Bioretention facility, rain garden, green roof...</td>\n",
       "      <td>217,800.00</td>\n",
       "      <td>80,920,000.00</td>\n",
       "    </tr>\n",
       "    <tr>\n",
       "      <th>3</th>\n",
       "      <td>Seattle</td>\n",
       "      <td>Washington</td>\n",
       "      <td>Taylor 28</td>\n",
       "      <td>Private funding</td>\n",
       "      <td>NaN</td>\n",
       "      <td>Bioretention facility, rain garden, cistern, p...</td>\n",
       "      <td>130,680.00</td>\n",
       "      <td>38,000,000.00</td>\n",
       "    </tr>\n",
       "    <tr>\n",
       "      <th>4</th>\n",
       "      <td>Los Angeles</td>\n",
       "      <td>California</td>\n",
       "      <td>South Los Angeles Wetland Park Site Plan</td>\n",
       "      <td>Public funding</td>\n",
       "      <td>NaN</td>\n",
       "      <td>Bioretention facility, bioswale, and porous pa...</td>\n",
       "      <td>130,680.00</td>\n",
       "      <td>24,000,000.00</td>\n",
       "    </tr>\n",
       "  </tbody>\n",
       "</table>\n",
       "</div>"
      ],
      "text/plain": [
       "           CITY       STATE                          CASE STUDY TITLE  \\\n",
       "0    Cincinnati        Ohio                                  Lick Run   \n",
       "1       Atlanta     Georgia   Emory University Stormwater Master Plan   \n",
       "2      Portland      Oregon                Tabor To The River Program   \n",
       "3       Seattle  Washington                                 Taylor 28   \n",
       "4   Los Angeles  California  South Los Angeles Wetland Park Site Plan   \n",
       "\n",
       "  FINANCIAL SOURCE FINANCIAL TOOL  \\\n",
       "0   Public funding            NaN   \n",
       "1  Private funding            NaN   \n",
       "2   Public funding            NaN   \n",
       "3  Private funding            NaN   \n",
       "4   Public funding            NaN   \n",
       "\n",
       "                                 GI PROJECT FINANCED  \\\n",
       "0  Bioretention facility, rain garden, bioswale, ...   \n",
       "1  Bioretention facility, rain garden, bioswale, ...   \n",
       "2  Bioretention facility, rain garden, green roof...   \n",
       "3  Bioretention facility, rain garden, cistern, p...   \n",
       "4  Bioretention facility, bioswale, and porous pa...   \n",
       "\n",
       "   Size/ Capture area (Sq. feet)          GI COST (2)  \n",
       "0                     217,800.00       122,000,000.00  \n",
       "1                     217,800.00        90,200,000.00  \n",
       "2                     217,800.00        80,920,000.00  \n",
       "3                     130,680.00        38,000,000.00  \n",
       "4                     130,680.00        24,000,000.00  "
      ]
     },
     "execution_count": 3,
     "metadata": {},
     "output_type": "execute_result"
    }
   ],
   "source": [
    "asla.head()"
   ]
  },
  {
   "cell_type": "markdown",
   "metadata": {},
   "source": [
    "**Cleaning and selecting only the relevant cases**"
   ]
  },
  {
   "cell_type": "code",
   "execution_count": 4,
   "metadata": {},
   "outputs": [],
   "source": [
    "columns = ['STATE','FINANCIAL SOURCE']\n",
    "\n",
    "for column in columns:\n",
    "    asla[column] = asla[column].str.lstrip()  #removing leading spaces "
   ]
  },
  {
   "cell_type": "code",
   "execution_count": 5,
   "metadata": {
    "scrolled": true
   },
   "outputs": [
    {
     "name": "stdout",
     "output_type": "stream",
     "text": [
      "Initial Row Count:  461\n"
     ]
    }
   ],
   "source": [
    "print('Initial Row Count: ',asla.shape[0])"
   ]
  },
  {
   "cell_type": "markdown",
   "metadata": {},
   "source": [
    "**Filtering out Canadian cases**\n"
   ]
  },
  {
   "cell_type": "code",
   "execution_count": 6,
   "metadata": {},
   "outputs": [],
   "source": [
    "asla=asla[asla['STATE']!='Canada'] "
   ]
  },
  {
   "cell_type": "code",
   "execution_count": 7,
   "metadata": {},
   "outputs": [
    {
     "name": "stdout",
     "output_type": "stream",
     "text": [
      "New Row Count: 454\n",
      "Lost: 7 rows\n"
     ]
    }
   ],
   "source": [
    "print('New Row Count:',asla.shape[0])\n",
    "print('Lost:',461-asla.shape[0],'rows')"
   ]
  },
  {
   "cell_type": "markdown",
   "metadata": {},
   "source": [
    "**Cutting critical null values**"
   ]
  },
  {
   "cell_type": "code",
   "execution_count": 8,
   "metadata": {},
   "outputs": [
    {
     "name": "stdout",
     "output_type": "stream",
     "text": [
      "There are 5 cases missing financial source data\n"
     ]
    }
   ],
   "source": [
    "print('There are',sum(asla['FINANCIAL SOURCE'].isnull()),'cases missing financial source data')"
   ]
  },
  {
   "cell_type": "code",
   "execution_count": 9,
   "metadata": {
    "scrolled": true
   },
   "outputs": [
    {
     "data": {
      "text/html": [
       "<div>\n",
       "<style scoped>\n",
       "    .dataframe tbody tr th:only-of-type {\n",
       "        vertical-align: middle;\n",
       "    }\n",
       "\n",
       "    .dataframe tbody tr th {\n",
       "        vertical-align: top;\n",
       "    }\n",
       "\n",
       "    .dataframe thead th {\n",
       "        text-align: right;\n",
       "    }\n",
       "</style>\n",
       "<table border=\"1\" class=\"dataframe\">\n",
       "  <thead>\n",
       "    <tr style=\"text-align: right;\">\n",
       "      <th></th>\n",
       "      <th>CITY</th>\n",
       "      <th>STATE</th>\n",
       "      <th>CASE STUDY TITLE</th>\n",
       "      <th>FINANCIAL SOURCE</th>\n",
       "      <th>FINANCIAL TOOL</th>\n",
       "      <th>GI PROJECT FINANCED</th>\n",
       "      <th>Size/ Capture area (Sq. feet)</th>\n",
       "      <th>GI COST (2)</th>\n",
       "    </tr>\n",
       "  </thead>\n",
       "  <tbody>\n",
       "    <tr>\n",
       "      <th>456</th>\n",
       "      <td>San Diego</td>\n",
       "      <td>California</td>\n",
       "      <td>La Jolla Shores Area of Special Biological Sig...</td>\n",
       "      <td>NaN</td>\n",
       "      <td>NaN</td>\n",
       "      <td>NaN</td>\n",
       "      <td>nan</td>\n",
       "      <td>0.00</td>\n",
       "    </tr>\n",
       "    <tr>\n",
       "      <th>457</th>\n",
       "      <td>Gainesville</td>\n",
       "      <td>Florida</td>\n",
       "      <td>Madera - Community and Model Center</td>\n",
       "      <td>NaN</td>\n",
       "      <td>NaN</td>\n",
       "      <td>NaN</td>\n",
       "      <td>nan</td>\n",
       "      <td>0.00</td>\n",
       "    </tr>\n",
       "    <tr>\n",
       "      <th>458</th>\n",
       "      <td>Ruston</td>\n",
       "      <td>Louisiana</td>\n",
       "      <td>City of Ruston-Louisiana Research Park Streets...</td>\n",
       "      <td>NaN</td>\n",
       "      <td>NaN</td>\n",
       "      <td>NaN</td>\n",
       "      <td>nan</td>\n",
       "      <td>0.00</td>\n",
       "    </tr>\n",
       "    <tr>\n",
       "      <th>459</th>\n",
       "      <td>Philadelphia</td>\n",
       "      <td>Pennsylvania</td>\n",
       "      <td>Shissler Rec. Center (Big Green Block)</td>\n",
       "      <td>NaN</td>\n",
       "      <td>NaN</td>\n",
       "      <td>NaN</td>\n",
       "      <td>nan</td>\n",
       "      <td>0.00</td>\n",
       "    </tr>\n",
       "    <tr>\n",
       "      <th>460</th>\n",
       "      <td>Southeastern</td>\n",
       "      <td>Pennsylvania</td>\n",
       "      <td>T-VSSI Regional Stormwater BMP Database</td>\n",
       "      <td>NaN</td>\n",
       "      <td>NaN</td>\n",
       "      <td>NaN</td>\n",
       "      <td>nan</td>\n",
       "      <td>0.00</td>\n",
       "    </tr>\n",
       "  </tbody>\n",
       "</table>\n",
       "</div>"
      ],
      "text/plain": [
       "              CITY         STATE  \\\n",
       "456      San Diego    California   \n",
       "457    Gainesville       Florida   \n",
       "458         Ruston     Louisiana   \n",
       "459   Philadelphia  Pennsylvania   \n",
       "460   Southeastern  Pennsylvania   \n",
       "\n",
       "                                      CASE STUDY TITLE FINANCIAL SOURCE  \\\n",
       "456  La Jolla Shores Area of Special Biological Sig...              NaN   \n",
       "457                Madera - Community and Model Center              NaN   \n",
       "458  City of Ruston-Louisiana Research Park Streets...              NaN   \n",
       "459             Shissler Rec. Center (Big Green Block)              NaN   \n",
       "460            T-VSSI Regional Stormwater BMP Database              NaN   \n",
       "\n",
       "    FINANCIAL TOOL GI PROJECT FINANCED  Size/ Capture area (Sq. feet)  \\\n",
       "456            NaN                 NaN                            nan   \n",
       "457            NaN                 NaN                            nan   \n",
       "458            NaN                 NaN                            nan   \n",
       "459            NaN                 NaN                            nan   \n",
       "460            NaN                 NaN                            nan   \n",
       "\n",
       "             GI COST (2)  \n",
       "456                 0.00  \n",
       "457                 0.00  \n",
       "458                 0.00  \n",
       "459                 0.00  \n",
       "460                 0.00  "
      ]
     },
     "execution_count": 9,
     "metadata": {},
     "output_type": "execute_result"
    }
   ],
   "source": [
    "asla[asla['FINANCIAL SOURCE'].isnull()]"
   ]
  },
  {
   "cell_type": "code",
   "execution_count": 10,
   "metadata": {},
   "outputs": [],
   "source": [
    "asla = asla[asla['FINANCIAL SOURCE'].notnull()]"
   ]
  },
  {
   "cell_type": "code",
   "execution_count": 11,
   "metadata": {},
   "outputs": [
    {
     "name": "stdout",
     "output_type": "stream",
     "text": [
      "New Row Count: 449\n",
      "Lost: 5 rows\n",
      "Total Lost Rows: 12\n"
     ]
    }
   ],
   "source": [
    "print('New Row Count:',asla.shape[0])\n",
    "print('Lost:',454-asla.shape[0],'rows')\n",
    "print('Total Lost Rows:',7+(454-asla.shape[0]))"
   ]
  },
  {
   "cell_type": "code",
   "execution_count": 12,
   "metadata": {},
   "outputs": [
    {
     "name": "stdout",
     "output_type": "stream",
     "text": [
      "There are 5 cases missing project size\n"
     ]
    }
   ],
   "source": [
    "print('There are',sum(asla['Size/ Capture area (Sq. feet)'].isnull()),'cases missing project size')"
   ]
  },
  {
   "cell_type": "code",
   "execution_count": 13,
   "metadata": {},
   "outputs": [
    {
     "data": {
      "text/html": [
       "<div>\n",
       "<style scoped>\n",
       "    .dataframe tbody tr th:only-of-type {\n",
       "        vertical-align: middle;\n",
       "    }\n",
       "\n",
       "    .dataframe tbody tr th {\n",
       "        vertical-align: top;\n",
       "    }\n",
       "\n",
       "    .dataframe thead th {\n",
       "        text-align: right;\n",
       "    }\n",
       "</style>\n",
       "<table border=\"1\" class=\"dataframe\">\n",
       "  <thead>\n",
       "    <tr style=\"text-align: right;\">\n",
       "      <th></th>\n",
       "      <th>CITY</th>\n",
       "      <th>STATE</th>\n",
       "      <th>CASE STUDY TITLE</th>\n",
       "      <th>FINANCIAL SOURCE</th>\n",
       "      <th>FINANCIAL TOOL</th>\n",
       "      <th>GI PROJECT FINANCED</th>\n",
       "      <th>Size/ Capture area (Sq. feet)</th>\n",
       "      <th>GI COST (2)</th>\n",
       "    </tr>\n",
       "  </thead>\n",
       "  <tbody>\n",
       "    <tr>\n",
       "      <th>212</th>\n",
       "      <td>San Mateo</td>\n",
       "      <td>California</td>\n",
       "      <td>San Mateo County Sustainable Green Streets</td>\n",
       "      <td>Public funding</td>\n",
       "      <td>NaN</td>\n",
       "      <td>Technical stormwater design guidebook of green...</td>\n",
       "      <td>nan</td>\n",
       "      <td>300,000.00</td>\n",
       "    </tr>\n",
       "    <tr>\n",
       "      <th>412</th>\n",
       "      <td>Sussex County</td>\n",
       "      <td>Kentucky</td>\n",
       "      <td>EPA Technical Assistance and Design Guidebooks</td>\n",
       "      <td>Private funding</td>\n",
       "      <td>NaN</td>\n",
       "      <td>Bioretention facility, rain garden, bioswale, ...</td>\n",
       "      <td>nan</td>\n",
       "      <td>30,000.00</td>\n",
       "    </tr>\n",
       "    <tr>\n",
       "      <th>421</th>\n",
       "      <td>New York</td>\n",
       "      <td>New York</td>\n",
       "      <td>Greenstreets - Furmanville Ave</td>\n",
       "      <td>Public funding</td>\n",
       "      <td>Grant</td>\n",
       "      <td>Bioretention facility, bioswale, gravel reserv...</td>\n",
       "      <td>nan</td>\n",
       "      <td>30,000.00</td>\n",
       "    </tr>\n",
       "    <tr>\n",
       "      <th>427</th>\n",
       "      <td>Portland</td>\n",
       "      <td>Oregon</td>\n",
       "      <td>SE 21st and Tibbetts Green Street</td>\n",
       "      <td>Public funding</td>\n",
       "      <td>NaN</td>\n",
       "      <td>Green roof, downspout removal, stormwater curb...</td>\n",
       "      <td>nan</td>\n",
       "      <td>30,000.00</td>\n",
       "    </tr>\n",
       "    <tr>\n",
       "      <th>455</th>\n",
       "      <td>Upland</td>\n",
       "      <td>California</td>\n",
       "      <td>Cucamonga Basin #6</td>\n",
       "      <td>Public funding</td>\n",
       "      <td>NaN</td>\n",
       "      <td>NaN</td>\n",
       "      <td>nan</td>\n",
       "      <td>0.00</td>\n",
       "    </tr>\n",
       "  </tbody>\n",
       "</table>\n",
       "</div>"
      ],
      "text/plain": [
       "              CITY       STATE  \\\n",
       "212      San Mateo  California   \n",
       "412  Sussex County    Kentucky   \n",
       "421       New York    New York   \n",
       "427       Portland      Oregon   \n",
       "455         Upland  California   \n",
       "\n",
       "                                   CASE STUDY TITLE FINANCIAL SOURCE  \\\n",
       "212      San Mateo County Sustainable Green Streets   Public funding   \n",
       "412  EPA Technical Assistance and Design Guidebooks  Private funding   \n",
       "421                  Greenstreets - Furmanville Ave   Public funding   \n",
       "427               SE 21st and Tibbetts Green Street   Public funding   \n",
       "455                              Cucamonga Basin #6   Public funding   \n",
       "\n",
       "    FINANCIAL TOOL                                GI PROJECT FINANCED  \\\n",
       "212            NaN  Technical stormwater design guidebook of green...   \n",
       "412            NaN  Bioretention facility, rain garden, bioswale, ...   \n",
       "421          Grant  Bioretention facility, bioswale, gravel reserv...   \n",
       "427            NaN  Green roof, downspout removal, stormwater curb...   \n",
       "455            NaN                                                NaN   \n",
       "\n",
       "     Size/ Capture area (Sq. feet)          GI COST (2)  \n",
       "212                            nan           300,000.00  \n",
       "412                            nan            30,000.00  \n",
       "421                            nan            30,000.00  \n",
       "427                            nan            30,000.00  \n",
       "455                            nan                 0.00  "
      ]
     },
     "execution_count": 13,
     "metadata": {},
     "output_type": "execute_result"
    }
   ],
   "source": [
    "asla[asla['Size/ Capture area (Sq. feet)'].isnull()]"
   ]
  },
  {
   "cell_type": "code",
   "execution_count": 14,
   "metadata": {},
   "outputs": [],
   "source": [
    "asla = asla[asla['Size/ Capture area (Sq. feet)'].notnull()]"
   ]
  },
  {
   "cell_type": "code",
   "execution_count": 15,
   "metadata": {},
   "outputs": [
    {
     "name": "stdout",
     "output_type": "stream",
     "text": [
      "New Row Count: 444\n",
      "Lost: 5 rows\n",
      "Total Lost Rows: 17\n"
     ]
    }
   ],
   "source": [
    "print('New Row Count:',asla.shape[0])\n",
    "print('Lost:',449-asla.shape[0],'rows')\n",
    "print('Total Lost Rows:',12+(449-asla.shape[0]))"
   ]
  },
  {
   "cell_type": "code",
   "execution_count": 16,
   "metadata": {},
   "outputs": [
    {
     "name": "stdout",
     "output_type": "stream",
     "text": [
      "There are 0 cases missing project cost\n"
     ]
    }
   ],
   "source": [
    "print('There are',sum(asla['GI COST (2)'].isnull()),'cases missing project cost')"
   ]
  },
  {
   "cell_type": "markdown",
   "metadata": {},
   "source": [
    "**Summary Statistics**"
   ]
  },
  {
   "cell_type": "code",
   "execution_count": 17,
   "metadata": {},
   "outputs": [
    {
     "data": {
      "text/html": [
       "<div>\n",
       "<style scoped>\n",
       "    .dataframe tbody tr th:only-of-type {\n",
       "        vertical-align: middle;\n",
       "    }\n",
       "\n",
       "    .dataframe tbody tr th {\n",
       "        vertical-align: top;\n",
       "    }\n",
       "\n",
       "    .dataframe thead th {\n",
       "        text-align: right;\n",
       "    }\n",
       "</style>\n",
       "<table border=\"1\" class=\"dataframe\">\n",
       "  <thead>\n",
       "    <tr style=\"text-align: right;\">\n",
       "      <th></th>\n",
       "      <th>Size/ Capture area (Sq. feet)</th>\n",
       "      <th>GI COST (2)</th>\n",
       "    </tr>\n",
       "  </thead>\n",
       "  <tbody>\n",
       "    <tr>\n",
       "      <th>count</th>\n",
       "      <td>444.00</td>\n",
       "      <td>444.00</td>\n",
       "    </tr>\n",
       "    <tr>\n",
       "      <th>mean</th>\n",
       "      <td>143,427.68</td>\n",
       "      <td>1,901,670.60</td>\n",
       "    </tr>\n",
       "    <tr>\n",
       "      <th>std</th>\n",
       "      <td>632,797.91</td>\n",
       "      <td>8,450,122.80</td>\n",
       "    </tr>\n",
       "    <tr>\n",
       "      <th>min</th>\n",
       "      <td>1,300.00</td>\n",
       "      <td>3,000.00</td>\n",
       "    </tr>\n",
       "    <tr>\n",
       "      <th>25%</th>\n",
       "      <td>24,280.00</td>\n",
       "      <td>75,000.00</td>\n",
       "    </tr>\n",
       "    <tr>\n",
       "      <th>50%</th>\n",
       "      <td>130,680.00</td>\n",
       "      <td>300,000.00</td>\n",
       "    </tr>\n",
       "    <tr>\n",
       "      <th>75%</th>\n",
       "      <td>130,680.00</td>\n",
       "      <td>2,081,250.00</td>\n",
       "    </tr>\n",
       "    <tr>\n",
       "      <th>max</th>\n",
       "      <td>13,068,000.00</td>\n",
       "      <td>122,000,000.00</td>\n",
       "    </tr>\n",
       "  </tbody>\n",
       "</table>\n",
       "</div>"
      ],
      "text/plain": [
       "       Size/ Capture area (Sq. feet)          GI COST (2)\n",
       "count                         444.00               444.00\n",
       "mean                      143,427.68         1,901,670.60\n",
       "std                       632,797.91         8,450,122.80\n",
       "min                         1,300.00             3,000.00\n",
       "25%                        24,280.00            75,000.00\n",
       "50%                       130,680.00           300,000.00\n",
       "75%                       130,680.00         2,081,250.00\n",
       "max                    13,068,000.00       122,000,000.00"
      ]
     },
     "execution_count": 17,
     "metadata": {},
     "output_type": "execute_result"
    }
   ],
   "source": [
    "asla[['Size/ Capture area (Sq. feet)','GI COST (2)']].describe()"
   ]
  },
  {
   "cell_type": "code",
   "execution_count": 18,
   "metadata": {},
   "outputs": [
    {
     "name": "stdout",
     "output_type": "stream",
     "text": [
      "Total awards = 844341748.0\n"
     ]
    }
   ],
   "source": [
    "print('Total awards =',sum(asla['GI COST (2)']))"
   ]
  },
  {
   "cell_type": "markdown",
   "metadata": {},
   "source": [
    "**State Distribution**"
   ]
  },
  {
   "cell_type": "code",
   "execution_count": 19,
   "metadata": {},
   "outputs": [
    {
     "name": "stdout",
     "output_type": "stream",
     "text": [
      "Total states represented =  44\n"
     ]
    }
   ],
   "source": [
    "print('Total states represented = ',len(asla['STATE'].unique()))"
   ]
  },
  {
   "cell_type": "code",
   "execution_count": 20,
   "metadata": {},
   "outputs": [
    {
     "data": {
      "text/plain": [
       "STATE\n",
       "Ohio                         140,161,100.00\n",
       "New York                     103,263,528.00\n",
       "Georgia                      101,277,000.00\n",
       "Oregon                       100,437,000.00\n",
       "California                    92,363,441.00\n",
       "Washington                    48,709,473.00\n",
       "Illinois                      36,605,117.00\n",
       "Indiana                       20,427,000.00\n",
       "Pennsylvania                  18,756,257.00\n",
       "Iowa                          17,751,328.00\n",
       "Louisiana                     16,440,000.00\n",
       "Colorado                      15,637,000.00\n",
       "Michigan                      15,311,410.00\n",
       "Wisconsin                     14,715,000.00\n",
       "Minnesota                     11,644,968.00\n",
       "Arizona                       10,200,000.00\n",
       "Tennessee                      9,000,000.00\n",
       "Alabama                        8,151,840.00\n",
       "Missouri                       8,077,000.00\n",
       "Kentucky                       7,306,226.00\n",
       "Massachusetts                  6,733,850.00\n",
       "Maryland                       4,972,000.00\n",
       "Connecticut                    4,955,000.00\n",
       "New Mexico                     4,730,000.00\n",
       "New Jersey                     4,068,466.00\n",
       "North Carolina                 3,485,857.00\n",
       "South Carolina                 3,300,000.00\n",
       "District of Columbia           3,087,000.00\n",
       "Florida                        2,768,600.00\n",
       "New Hampshire                  1,650,000.00\n",
       "Virginia                       1,304,000.00\n",
       "Arkansas                       1,125,000.00\n",
       "Texas                          1,063,000.00\n",
       "Kansas                         1,031,282.00\n",
       "Idaho                            865,000.00\n",
       "Rhode Island                     800,000.00\n",
       "Mississippi                      678,600.00\n",
       "Alaska                           460,000.00\n",
       "Oklahoma                         410,000.00\n",
       "Maine                            300,000.00\n",
       "Utah                             150,000.00\n",
       "Montana                           75,000.00\n",
       "Nebraska                          69,585.00\n",
       "Vermont                           24,820.00\n",
       "Name: GI COST (2), dtype: float64"
      ]
     },
     "execution_count": 20,
     "metadata": {},
     "output_type": "execute_result"
    }
   ],
   "source": [
    "asla.groupby('STATE')['GI COST (2)'].sum().sort_values(ascending=False)"
   ]
  },
  {
   "cell_type": "code",
   "execution_count": 21,
   "metadata": {
    "scrolled": false
   },
   "outputs": [
    {
     "data": {
      "text/plain": [
       "STATE\n",
       "New York                56\n",
       "California              49\n",
       "Pennsylvania            32\n",
       "Illinois                26\n",
       "Oregon                  25\n",
       "Ohio                    20\n",
       "Michigan                16\n",
       "Louisiana               15\n",
       "Missouri                13\n",
       "Alabama                 12\n",
       "Washington              12\n",
       "District of Columbia    11\n",
       "Wisconsin               11\n",
       "Minnesota               11\n",
       "Idaho                   10\n",
       "Florida                  9\n",
       "North Carolina           9\n",
       "Georgia                  8\n",
       "Maryland                 8\n",
       "Colorado                 7\n",
       "Massachusetts            7\n",
       "Indiana                  7\n",
       "Kentucky                 6\n",
       "Kansas                   6\n",
       "Connecticut              6\n",
       "Arizona                  5\n",
       "New Mexico               5\n",
       "New Jersey               5\n",
       "New Hampshire            4\n",
       "Iowa                     4\n",
       "Oklahoma                 3\n",
       "Texas                    3\n",
       "Tennessee                3\n",
       "Mississippi              3\n",
       "Virginia                 3\n",
       "Arkansas                 3\n",
       "Utah                     2\n",
       "South Carolina           2\n",
       "Alaska                   2\n",
       "Nebraska                 1\n",
       "Maine                    1\n",
       "Vermont                  1\n",
       "Rhode Island             1\n",
       "Montana                  1\n",
       "Name: CITY, dtype: int64"
      ]
     },
     "execution_count": 21,
     "metadata": {},
     "output_type": "execute_result"
    }
   ],
   "source": [
    "asla.groupby('STATE')['CITY'].count().sort_values(ascending=False)"
   ]
  },
  {
   "cell_type": "markdown",
   "metadata": {},
   "source": [
    "**Size and Cost Distribution**  \n",
    "*These were the bins specifically requested*"
   ]
  },
  {
   "cell_type": "code",
   "execution_count": 22,
   "metadata": {},
   "outputs": [
    {
     "name": "stdout",
     "output_type": "stream",
     "text": [
      "< 20,000: 45\n",
      "20,000 - 40,000: 144\n",
      "40,000 - 200,000: 153\n",
      "> 200,000: 102\n"
     ]
    }
   ],
   "source": [
    "print('< 20,000:',sum(asla['Size/ Capture area (Sq. feet)']<20000))\n",
    "print('20,000 - 40,000:',sum(asla['Size/ Capture area (Sq. feet)'].between(20000,40000)))\n",
    "print('40,000 - 200,000:',sum(asla['Size/ Capture area (Sq. feet)'].between(40000,200000)))\n",
    "print('> 200,000:',sum(asla['Size/ Capture area (Sq. feet)']>200000))"
   ]
  },
  {
   "cell_type": "code",
   "execution_count": 23,
   "metadata": {},
   "outputs": [
    {
     "name": "stdout",
     "output_type": "stream",
     "text": [
      "< $10,000: 3\n",
      "$10,000 - $50,000: 61\n",
      "$50,000 - $100,000: 63\n",
      "$100,000 - $500,000: 137\n",
      "$500,000 - $1,000,000: 63\n",
      "$1,000,000 - $5,000,000: 110\n",
      "> $5,000,000: 11\n"
     ]
    }
   ],
   "source": [
    "print('< $10,000:',sum(asla['GI COST (2)']<10000))\n",
    "print('$10,000 - $50,000:',sum(asla['GI COST (2)'].between(10000,50000)))\n",
    "print('$50,000 - $100,000:',sum(asla['GI COST (2)'].between(50000,100000)))\n",
    "print('$100,000 - $500,000:',sum(asla['GI COST (2)'].between(100000,500000)))\n",
    "print('$500,000 - $1,000,000:',sum(asla['GI COST (2)'].between(500000,1000000)))\n",
    "print('$1,000,000 - $5,000,000:',sum(asla['GI COST (2)'].between(1000000,5000000)))\n",
    "print('> $5,000,000:',sum(asla['GI COST (2)']>5000000))"
   ]
  },
  {
   "cell_type": "markdown",
   "metadata": {},
   "source": [
    "**Cost/Sq Ft**"
   ]
  },
  {
   "cell_type": "code",
   "execution_count": 24,
   "metadata": {},
   "outputs": [
    {
     "data": {
      "text/html": [
       "<div>\n",
       "<style scoped>\n",
       "    .dataframe tbody tr th:only-of-type {\n",
       "        vertical-align: middle;\n",
       "    }\n",
       "\n",
       "    .dataframe tbody tr th {\n",
       "        vertical-align: top;\n",
       "    }\n",
       "\n",
       "    .dataframe thead th {\n",
       "        text-align: right;\n",
       "    }\n",
       "</style>\n",
       "<table border=\"1\" class=\"dataframe\">\n",
       "  <thead>\n",
       "    <tr style=\"text-align: right;\">\n",
       "      <th></th>\n",
       "      <th>Cost/Sqft</th>\n",
       "    </tr>\n",
       "  </thead>\n",
       "  <tbody>\n",
       "    <tr>\n",
       "      <th>count</th>\n",
       "      <td>444.00</td>\n",
       "    </tr>\n",
       "    <tr>\n",
       "      <th>mean</th>\n",
       "      <td>24.16</td>\n",
       "    </tr>\n",
       "    <tr>\n",
       "      <th>std</th>\n",
       "      <td>63.66</td>\n",
       "    </tr>\n",
       "    <tr>\n",
       "      <th>min</th>\n",
       "      <td>0.02</td>\n",
       "    </tr>\n",
       "    <tr>\n",
       "      <th>25%</th>\n",
       "      <td>2.00</td>\n",
       "    </tr>\n",
       "    <tr>\n",
       "      <th>50%</th>\n",
       "      <td>6.33</td>\n",
       "    </tr>\n",
       "    <tr>\n",
       "      <th>75%</th>\n",
       "      <td>22.96</td>\n",
       "    </tr>\n",
       "    <tr>\n",
       "      <th>max</th>\n",
       "      <td>626.00</td>\n",
       "    </tr>\n",
       "  </tbody>\n",
       "</table>\n",
       "</div>"
      ],
      "text/plain": [
       "                 Cost/Sqft\n",
       "count               444.00\n",
       "mean                 24.16\n",
       "std                  63.66\n",
       "min                   0.02\n",
       "25%                   2.00\n",
       "50%                   6.33\n",
       "75%                  22.96\n",
       "max                 626.00"
      ]
     },
     "execution_count": 24,
     "metadata": {},
     "output_type": "execute_result"
    }
   ],
   "source": [
    "asla['Cost/Sqft'] = asla['GI COST (2)'] / asla['Size/ Capture area (Sq. feet)']\n",
    "asla[['Cost/Sqft']].describe()"
   ]
  },
  {
   "cell_type": "code",
   "execution_count": 25,
   "metadata": {},
   "outputs": [
    {
     "data": {
      "text/html": [
       "<div>\n",
       "<style scoped>\n",
       "    .dataframe tbody tr th:only-of-type {\n",
       "        vertical-align: middle;\n",
       "    }\n",
       "\n",
       "    .dataframe tbody tr th {\n",
       "        vertical-align: top;\n",
       "    }\n",
       "\n",
       "    .dataframe thead th {\n",
       "        text-align: right;\n",
       "    }\n",
       "</style>\n",
       "<table border=\"1\" class=\"dataframe\">\n",
       "  <thead>\n",
       "    <tr style=\"text-align: right;\">\n",
       "      <th></th>\n",
       "      <th>count</th>\n",
       "      <th>mean</th>\n",
       "      <th>std</th>\n",
       "      <th>min</th>\n",
       "      <th>25%</th>\n",
       "      <th>50%</th>\n",
       "      <th>75%</th>\n",
       "      <th>max</th>\n",
       "    </tr>\n",
       "    <tr>\n",
       "      <th>FINANCIAL SOURCE</th>\n",
       "      <th></th>\n",
       "      <th></th>\n",
       "      <th></th>\n",
       "      <th></th>\n",
       "      <th></th>\n",
       "      <th></th>\n",
       "      <th></th>\n",
       "      <th></th>\n",
       "    </tr>\n",
       "  </thead>\n",
       "  <tbody>\n",
       "    <tr>\n",
       "      <th>Mixed</th>\n",
       "      <td>15.00</td>\n",
       "      <td>9.45</td>\n",
       "      <td>12.10</td>\n",
       "      <td>0.08</td>\n",
       "      <td>1.36</td>\n",
       "      <td>3.25</td>\n",
       "      <td>12.36</td>\n",
       "      <td>32.95</td>\n",
       "    </tr>\n",
       "    <tr>\n",
       "      <th>Private funding</th>\n",
       "      <td>116.00</td>\n",
       "      <td>17.25</td>\n",
       "      <td>51.35</td>\n",
       "      <td>0.02</td>\n",
       "      <td>0.90</td>\n",
       "      <td>3.16</td>\n",
       "      <td>12.36</td>\n",
       "      <td>414.14</td>\n",
       "    </tr>\n",
       "    <tr>\n",
       "      <th>Public funding</th>\n",
       "      <td>313.00</td>\n",
       "      <td>27.42</td>\n",
       "      <td>68.83</td>\n",
       "      <td>0.14</td>\n",
       "      <td>2.30</td>\n",
       "      <td>12.36</td>\n",
       "      <td>22.96</td>\n",
       "      <td>626.00</td>\n",
       "    </tr>\n",
       "  </tbody>\n",
       "</table>\n",
       "</div>"
      ],
      "text/plain": [
       "                                count                 mean  \\\n",
       "FINANCIAL SOURCE                                             \n",
       "Mixed                           15.00                 9.45   \n",
       "Private funding                116.00                17.25   \n",
       "Public funding                 313.00                27.42   \n",
       "\n",
       "                                  std                  min  \\\n",
       "FINANCIAL SOURCE                                             \n",
       "Mixed                           12.10                 0.08   \n",
       "Private funding                 51.35                 0.02   \n",
       "Public funding                  68.83                 0.14   \n",
       "\n",
       "                                  25%                  50%  \\\n",
       "FINANCIAL SOURCE                                             \n",
       "Mixed                            1.36                 3.25   \n",
       "Private funding                  0.90                 3.16   \n",
       "Public funding                   2.30                12.36   \n",
       "\n",
       "                                  75%                  max  \n",
       "FINANCIAL SOURCE                                            \n",
       "Mixed                           12.36                32.95  \n",
       "Private funding                 12.36               414.14  \n",
       "Public funding                  22.96               626.00  "
      ]
     },
     "execution_count": 25,
     "metadata": {},
     "output_type": "execute_result"
    }
   ],
   "source": [
    "asla_types = asla.groupby('FINANCIAL SOURCE')\n",
    "asla_types['Cost/Sqft'].describe()"
   ]
  },
  {
   "cell_type": "code",
   "execution_count": 26,
   "metadata": {},
   "outputs": [
    {
     "data": {
      "text/plain": [
       "<matplotlib.axes._subplots.AxesSubplot at 0x7f6eb99a2ef0>"
      ]
     },
     "execution_count": 26,
     "metadata": {},
     "output_type": "execute_result"
    },
    {
     "data": {
      "image/png": "[encoded data removed]",
      "text/plain": [
       "<matplotlib.figure.Figure at 0x7f6eb99a2940>"
      ]
     },
     "metadata": {},
     "output_type": "display_data"
    }
   ],
   "source": [
    "asla.boxplot('Cost/Sqft', by='FINANCIAL SOURCE', figsize=(12, 8))"
   ]
  },
  {
   "cell_type": "markdown",
   "metadata": {},
   "source": [
    "**Testing the Cost/Sq Ft by Financial Source**"
   ]
  },
  {
   "cell_type": "code",
   "execution_count": 27,
   "metadata": {},
   "outputs": [
    {
     "data": {
      "text/plain": [
       "F_onewayResult(statistic=1.4974108427694688, pvalue=0.22484380848319827)"
      ]
     },
     "execution_count": 27,
     "metadata": {},
     "output_type": "execute_result"
    }
   ],
   "source": [
    "import scipy.stats as stats\n",
    "\n",
    "mixed = list(asla[asla['FINANCIAL SOURCE']=='Mixed']['Cost/Sqft'].values)\n",
    "public = list(asla[asla['FINANCIAL SOURCE']=='Public funding']['Cost/Sqft'].values)\n",
    "private = list(asla[asla['FINANCIAL SOURCE']=='Private funding']['Cost/Sqft'].values)\n",
    "\n",
    "stats.f_oneway(mixed,public,private)"
   ]
  },
  {
   "cell_type": "code",
   "execution_count": 28,
   "metadata": {},
   "outputs": [
    {
     "data": {
      "text/plain": [
       "Ttest_indResult(statistic=1.4484402208074285, pvalue=0.1482278673107445)"
      ]
     },
     "execution_count": 28,
     "metadata": {},
     "output_type": "execute_result"
    }
   ],
   "source": [
    "stats.ttest_ind(public,private)"
   ]
  },
  {
   "cell_type": "code",
   "execution_count": 29,
   "metadata": {},
   "outputs": [
    {
     "data": {
      "text/plain": [
       "Ttest_indResult(statistic=1.6732829893294674, pvalue=0.094979130268016909)"
      ]
     },
     "execution_count": 29,
     "metadata": {},
     "output_type": "execute_result"
    }
   ],
   "source": [
    "any_priv = private + mixed\n",
    "stats.ttest_ind(public,any_priv)"
   ]
  },
  {
   "cell_type": "code",
   "execution_count": 30,
   "metadata": {
    "scrolled": true
   },
   "outputs": [
    {
     "data": {
      "text/plain": [
       "array([  5.60146924e+02,   3.71533517e+02,   1.83654729e+02,\n",
       "         8.22620141e+00,   4.15579798e+01,   3.81294261e+01,\n",
       "         3.67309458e+01,   5.12473217e+01,   2.80073462e+01,\n",
       "         2.05930807e+02,   2.29568411e+01,   2.29568411e+01,\n",
       "         2.29568411e+01,   2.29568411e+01,   2.29568411e+01,\n",
       "         2.29568411e+01,   2.29568411e+01,   2.29568411e+01,\n",
       "         3.82614019e+01,   2.29568411e+01,   3.82614019e+01,\n",
       "         2.29568411e+01,   3.59657178e+01,   2.15794307e+01,\n",
       "         2.13503030e+01,   1.79063361e+01,   1.69880624e+01,\n",
       "         1.60697888e+01,   2.44872972e+01,   2.44872972e+01,\n",
       "         1.43919559e+01,   6.26000000e+02,   1.27677100e+02,\n",
       "         1.37741047e+01,   1.37741047e+01,   2.29568411e+01,\n",
       "         2.29568411e+01,   1.23558484e+02,   1.37741047e+01,\n",
       "         1.37741047e+01,   2.29568411e+01,   1.37741047e+01,\n",
       "         1.23558484e+02,   2.29568411e+01,   1.37741047e+01,\n",
       "         2.29568411e+01,   2.29568411e+01,   2.29568411e+01,\n",
       "         2.29568411e+01,   1.37741047e+01,   2.29568411e+01,\n",
       "         1.37741047e+01,   2.29568411e+01,   1.37741047e+01,\n",
       "         2.29568411e+01,   2.29568411e+01,   1.23558484e+02,\n",
       "         2.29568411e+01,   1.23558484e+02,   2.29568411e+01,\n",
       "         1.23558484e+02,   2.29568411e+01,   1.23558484e+02,\n",
       "         1.23558484e+02,   1.23558484e+02,   2.29568411e+01,\n",
       "         1.23558484e+02,   1.23558484e+02,   2.29568411e+01,\n",
       "         1.23558484e+02,   2.29568411e+01,   2.29568411e+01,\n",
       "         2.29568411e+01,   6.00000000e+02,   1.23558484e+02,\n",
       "         1.37741047e+01,   2.29568411e+01,   1.23558484e+02,\n",
       "         1.23558484e+02,   1.23558484e+02,   2.29568411e+01,\n",
       "         5.29773257e+00,   1.37741047e+01,   1.37741047e+01,\n",
       "         2.29568411e+01,   2.29568411e+01,   1.37741047e+01,\n",
       "         2.29568411e+01,   2.29568411e+01,   1.37741047e+01,\n",
       "         1.37741047e+01,   1.15321252e+02,   1.23966942e+01,\n",
       "         1.76002449e+01,   1.60697888e+01,   1.58784818e+01,\n",
       "         9.18273646e+00,   6.58978583e+01,   5.47775947e+01,\n",
       "         1.00452862e+01,   5.50964187e+00,   9.01020049e+00,\n",
       "         4.43985308e+00,   3.74794069e+01,   6.58402204e+00,\n",
       "         3.49585255e+01,   6.29017447e+00,   3.71951331e+00,\n",
       "         3.68227732e+00,   3.15897858e+01,   3.14353377e+01,\n",
       "         5.73921028e+00,   5.73921028e+00,   3.75000000e+01,\n",
       "         3.44352617e+00,   5.73921028e+00,   3.08896211e+01,\n",
       "         5.73921028e+00,   5.73921028e+00,   5.73921028e+00,\n",
       "         3.44352617e+00,   5.73921028e+00,   3.08896211e+01,\n",
       "         3.08896211e+01,   3.08896211e+01,   1.50000000e+02,\n",
       "         5.73921028e+00,   5.73921028e+00,   3.08896211e+01,\n",
       "         3.44352617e+00,   5.73921028e+00,   3.44352617e+00,\n",
       "         3.08896211e+01,   2.56979565e+00,   5.73921028e+00,\n",
       "         5.73921028e+00,   5.73921028e+00,   2.98438935e+00,\n",
       "         2.93847567e+00,   4.86482247e+00,   2.89144169e+00,\n",
       "         2.20345964e+01,   1.97281713e+01,   3.54300582e+00,\n",
       "         9.12452000e+01,   3.44352617e+00,   2.52525253e+00,\n",
       "         2.29568411e+00,   2.29568411e+00,   1.23558484e+01,\n",
       "         2.29568411e+00,   3.44352617e+00,   1.23558484e+01,\n",
       "         6.00000000e+01,   2.29568411e+00,   2.29568411e+00,\n",
       "         1.23558484e+01,   1.37741047e+00,   6.00000000e+01,\n",
       "         2.29568411e+00,   1.37741047e+00,   2.29568411e+00,\n",
       "         2.30769231e+02,   2.29568411e+00,   2.29568411e+00,\n",
       "         2.29568411e+00,   2.29568411e+00,   2.29568411e+00,\n",
       "         2.29568411e+00,   1.37741047e+00,   6.00000000e+01,\n",
       "         1.23558484e+01,   1.37741047e+00,   1.37741047e+00,\n",
       "         1.37741047e+00,   2.29568411e+00,   1.37741047e+00,\n",
       "         1.23558484e+01,   2.29568411e+00,   2.29568411e+00,\n",
       "         1.37741047e+00,   1.23558484e+01,   1.37741047e+00,\n",
       "         2.29568411e+00,   1.23558484e+01,   1.37741047e+00,\n",
       "         6.00000000e+01,   6.00000000e+01,   1.23558484e+01,\n",
       "         2.29568411e+00,   1.23558484e+01,   1.23558484e+01,\n",
       "         1.23558484e+01,   1.23558484e+01,   1.23558484e+01,\n",
       "         1.23558484e+01,   1.23558484e+01,   6.00000000e+01,\n",
       "         1.23558484e+01,   1.37741047e+00,   2.29568411e+00,\n",
       "         2.29568411e+00,   1.72176309e-01,   1.23558484e+01,\n",
       "         1.37741047e+00,   1.23558484e+01,   1.23558484e+01,\n",
       "         1.23558484e+01,   1.23558484e+01,   1.23558484e+01,\n",
       "         1.23558484e+01,   2.29568411e+00,   1.23558484e+01,\n",
       "         1.23558484e+01,   1.23558484e+01,   1.23558484e+01,\n",
       "         1.23558484e+01,   1.23558484e+01,   1.23558484e+01,\n",
       "         1.23558484e+01,   1.23558484e+01,   2.29568411e+00,\n",
       "         1.23558484e+01,   1.23558484e+01,   1.23558484e+01,\n",
       "         2.14263851e+00,   1.07084020e+01,   1.02965404e+01,\n",
       "         1.87480869e+00,   9.34378089e+00,   1.60697888e+00,\n",
       "         4.00000000e+01,   7.34618916e-01,   9.87144169e-01,\n",
       "         9.18273646e-01,   8.76186103e-01,   7.65228038e-01,\n",
       "         6.88705234e-01,   1.77618000e+01,   3.90266299e-01,\n",
       "         1.70000000e+01,   1.60000000e+01,   5.73921028e-01,\n",
       "         5.73921028e-01,   3.08896211e+00,   5.73921028e-01,\n",
       "         3.08896211e+00,   1.66666667e+01,   3.44352617e-01,\n",
       "         3.08896211e+00,   3.08896211e+00,   5.73921028e-01,\n",
       "         3.08896211e+00,   5.73921028e-01,   5.73921028e-01,\n",
       "         3.08896211e+00,   1.50000000e+01,   5.73921028e-01,\n",
       "         5.73921028e-01,   3.08896211e+00,   1.50000000e+01,\n",
       "         3.08896211e+00,   3.08896211e+00,   5.73921028e-01,\n",
       "         3.08896211e+00,   3.08896211e+00,   3.08896211e+00,\n",
       "         1.50000000e+01,   1.50000000e+01,   3.19490358e-01,\n",
       "         2.61532125e+00,   2.57825371e+00,   2.47116969e+00,\n",
       "         1.08000000e+01,   3.97918580e-01,   2.05930807e+00,\n",
       "         2.03760297e+00,   2.81910009e-01,   2.44872972e-01,\n",
       "         1.23558484e+00,   2.29568411e-01,   1.23558484e+00,\n",
       "         6.00000000e+00,   2.29568411e-01,   2.29568411e-01,\n",
       "         1.37741047e-01,   2.29568411e-01,   1.23558484e+00,\n",
       "         1.23558484e+00,   1.37741047e-01,   2.29568411e-01,\n",
       "         6.00000000e+00,   1.23558484e+00,   6.00000000e+00,\n",
       "         1.23558484e+00,   6.00000000e+00,   2.29568411e-01,\n",
       "         6.00000000e+00,   1.23558484e+00,   1.23558484e+00,\n",
       "         1.23558484e+00,   1.23558484e+00,   2.29568411e-01,\n",
       "         1.23558484e+00,   1.14909390e+00,   4.96400000e+00,\n",
       "         5.70428336e-01,   5.26441516e-01,   2.00000000e+00,\n",
       "         2.00000000e+00,   2.00000000e+00,   2.00000000e+00,\n",
       "         2.99176277e-01])"
      ]
     },
     "execution_count": 30,
     "metadata": {},
     "output_type": "execute_result"
    }
   ],
   "source": [
    "asla[asla['FINANCIAL SOURCE']=='Public funding']['Cost/Sqft'].values"
   ]
  },
  {
   "cell_type": "code",
   "execution_count": 31,
   "metadata": {
    "scrolled": true
   },
   "outputs": [
    {
     "data": {
      "text/plain": [
       "array([  4.14141414e+02,   2.90786654e+02,   2.29568411e+01,\n",
       "         2.29568411e+01,   1.37741047e+01,   1.37741047e+01,\n",
       "         2.29568411e+01,   1.37741047e+01,   1.37741047e+01,\n",
       "         1.37741047e+01,   2.29568411e+01,   2.29568411e+01,\n",
       "         2.29568411e+01,   1.37741047e+01,   1.23558484e+02,\n",
       "         1.86715641e+01,   6.79981635e+00,   6.37281910e+00,\n",
       "         2.00000000e+02,   6.84879094e+00,   4.08236915e+00,\n",
       "         3.44352617e+00,   5.73921028e+00,   5.73921028e+00,\n",
       "         3.08896211e+01,   5.73921028e+00,   3.08896211e+01,\n",
       "         3.08896211e+01,   5.73921028e+00,   5.73921028e+00,\n",
       "         3.08896211e+01,   2.98820018e+00,   4.73267524e+00,\n",
       "         2.47116969e+01,   4.43832262e+00,   3.09152127e+00,\n",
       "         1.72176309e+00,   1.37741047e+00,   1.37741047e+00,\n",
       "         2.29568411e-02,   1.23558484e+01,   1.23558484e+01,\n",
       "         2.29568411e+00,   1.23558484e+01,   6.00000000e+01,\n",
       "         2.29568411e+00,   1.23558484e+01,   2.29568411e+00,\n",
       "         2.29568411e+00,   1.23558484e+01,   6.00000000e+01,\n",
       "         2.29568411e+00,   1.23558484e+01,   2.29568411e+00,\n",
       "         1.23558484e+01,   2.29568411e+00,   1.23558484e+01,\n",
       "         1.23558484e+01,   2.29568411e+00,   1.23558484e+01,\n",
       "         1.37741047e+00,   4.91932310e-01,   6.00000000e+01,\n",
       "         6.00000000e+01,   2.29568411e+00,   1.23558484e+01,\n",
       "         1.18204283e+01,   1.13261944e+01,   1.14784206e+00,\n",
       "         7.80532599e-01,   9.18273646e-01,   8.41750842e-01,\n",
       "         4.59136823e-01,   3.29489292e+00,   3.23723229e+00,\n",
       "         5.73921028e-01,   5.73921028e-01,   3.44352617e-01,\n",
       "         5.73921028e-01,   3.08896211e+00,   3.44352617e-01,\n",
       "         5.73921028e-01,   5.73921028e-01,   3.44352617e-01,\n",
       "         5.73921028e-01,   5.73921028e-01,   3.08896211e+00,\n",
       "         1.50000000e+01,   5.73921028e-01,   5.73921028e-01,\n",
       "         3.44352617e-01,   3.44352617e-01,   3.08896211e+00,\n",
       "         9.00000000e+00,   8.60000000e+00,   2.29568411e-01,\n",
       "         2.29568411e-01,   1.37741047e-01,   6.00000000e+00,\n",
       "         1.23558484e+00,   2.29568411e-01,   6.00000000e+00,\n",
       "         1.23558484e+00,   1.23558484e+00,   1.23558484e+00,\n",
       "         1.23558484e+00,   1.23558484e+00,   2.29568411e-01,\n",
       "         1.11202636e+00,   4.94233937e-01,   4.11861614e-01,\n",
       "         2.00000000e+00,   4.11861614e-01,   2.00000000e+00,\n",
       "         7.20000000e-01,   6.00000000e-01])"
      ]
     },
     "execution_count": 31,
     "metadata": {},
     "output_type": "execute_result"
    }
   ],
   "source": [
    "asla[asla['FINANCIAL SOURCE']=='Private funding']['Cost/Sqft'].values"
   ]
  },
  {
   "cell_type": "code",
   "execution_count": 32,
   "metadata": {},
   "outputs": [
    {
     "data": {
      "text/plain": [
       "array([  6.42791552,  32.94892916,  30.88962109,   0.43044077,\n",
       "        30.88962109,   2.75482094,   3.25221916,  12.35584843,\n",
       "        12.35584843,   2.29568411,   3.76029654,   2.96540362,\n",
       "         0.22956841,   0.0765228 ,   0.0765228 ])"
      ]
     },
     "execution_count": 32,
     "metadata": {},
     "output_type": "execute_result"
    }
   ],
   "source": [
    "asla[asla['FINANCIAL SOURCE']=='Mixed']['Cost/Sqft'].values"
   ]
  },
  {
   "cell_type": "markdown",
   "metadata": {},
   "source": [
    "[<img src=\"https://i2.wp.com/nysufc.org/wp-content/uploads/2017/03/savetherain1.jpg\" style=\"width:500px\">](http://savetherain.us/green-project-list/)"
   ]
  },
  {
   "cell_type": "code",
   "execution_count": 33,
   "metadata": {},
   "outputs": [],
   "source": [
    "body = client_48928a04ca8e42ed87d1026e6bbfe31a.get_object(Bucket='courseracapstone-donotdelete-pr-fxod1bkevlkezk',Key='SaveRain-2.csv')['Body']\n",
    "# add missing __iter__ method, so pandas accepts body as file-like object\n",
    "if not hasattr(body, \"__iter__\"): body.__iter__ = types.MethodType( __iter__, body )\n",
    "\n",
    "rain = pd.read_csv(body)\n",
    "rain['Size/ Capture area (Sq. feet)'] = rain['Size/ Capture area (Sq. feet)'].astype(float)\n",
    "rain['GI COST (2)'] = rain['GI COST (2)'].astype(float)"
   ]
  },
  {
   "cell_type": "code",
   "execution_count": 34,
   "metadata": {
    "scrolled": true
   },
   "outputs": [
    {
     "name": "stdout",
     "output_type": "stream",
     "text": [
      "Initial Row Count:  150\n"
     ]
    }
   ],
   "source": [
    "print('Initial Row Count: ',rain.shape[0])"
   ]
  },
  {
   "cell_type": "code",
   "execution_count": 35,
   "metadata": {},
   "outputs": [],
   "source": [
    "columns = ['CITY','STATE','FINANCIAL SOURCE']\n",
    "\n",
    "for column in columns:\n",
    "    rain[column] = rain[column].str.lstrip()  #removing leading spaces"
   ]
  },
  {
   "cell_type": "code",
   "execution_count": 36,
   "metadata": {},
   "outputs": [
    {
     "data": {
      "text/plain": [
       "array(['Public financing', 'Mixed', nan, 'Public Funding',\n",
       "       'Public funding', 'Public funding & financing', 'Public Financing',\n",
       "       'Private funding', 'Public funding '], dtype=object)"
      ]
     },
     "execution_count": 36,
     "metadata": {},
     "output_type": "execute_result"
    }
   ],
   "source": [
    "rain['FINANCIAL SOURCE'].unique()"
   ]
  },
  {
   "cell_type": "code",
   "execution_count": 37,
   "metadata": {},
   "outputs": [],
   "source": [
    "# Standardizing \n",
    "\n",
    "rain['FINANCIAL SOURCE'][rain['FINANCIAL SOURCE']=='Public Financing'] = 'Public'\n",
    "rain['FINANCIAL SOURCE'][rain['FINANCIAL SOURCE']=='Public financing'] = 'Public'\n",
    "rain['FINANCIAL SOURCE'][rain['FINANCIAL SOURCE']=='Public Funding'] = 'Public'\n",
    "rain['FINANCIAL SOURCE'][rain['FINANCIAL SOURCE']=='Public funding'] = 'Public'\n",
    "rain['FINANCIAL SOURCE'][rain['FINANCIAL SOURCE']=='Public funding & financing'] = 'Public'\n",
    "rain['FINANCIAL SOURCE'][rain['FINANCIAL SOURCE']=='Private funding'] = 'Private'"
   ]
  },
  {
   "cell_type": "code",
   "execution_count": 38,
   "metadata": {
    "scrolled": true
   },
   "outputs": [
    {
     "data": {
      "text/html": [
       "<div>\n",
       "<style scoped>\n",
       "    .dataframe tbody tr th:only-of-type {\n",
       "        vertical-align: middle;\n",
       "    }\n",
       "\n",
       "    .dataframe tbody tr th {\n",
       "        vertical-align: top;\n",
       "    }\n",
       "\n",
       "    .dataframe thead th {\n",
       "        text-align: right;\n",
       "    }\n",
       "</style>\n",
       "<table border=\"1\" class=\"dataframe\">\n",
       "  <thead>\n",
       "    <tr style=\"text-align: right;\">\n",
       "      <th></th>\n",
       "      <th>CITY</th>\n",
       "      <th>STATE</th>\n",
       "      <th>CASE STUDY TITLE</th>\n",
       "      <th>FINANCIAL SOURCE</th>\n",
       "      <th>FINANCIAL TOOL</th>\n",
       "      <th>Size/ Capture area (Sq. feet)</th>\n",
       "      <th>GI COST (2)</th>\n",
       "    </tr>\n",
       "  </thead>\n",
       "  <tbody>\n",
       "    <tr>\n",
       "      <th>2</th>\n",
       "      <td>Pontiac</td>\n",
       "      <td>Michigan</td>\n",
       "      <td>Oakland County Campus</td>\n",
       "      <td>NaN</td>\n",
       "      <td>NaN</td>\n",
       "      <td>6,141,960.00</td>\n",
       "      <td>204,000.00</td>\n",
       "    </tr>\n",
       "    <tr>\n",
       "      <th>36</th>\n",
       "      <td>Ann Arbor</td>\n",
       "      <td>Michigan</td>\n",
       "      <td>Ann Arbor District Library, Mallets Creek Branch</td>\n",
       "      <td>NaN</td>\n",
       "      <td>NaN</td>\n",
       "      <td>108,900.00</td>\n",
       "      <td>70,000.00</td>\n",
       "    </tr>\n",
       "    <tr>\n",
       "      <th>125</th>\n",
       "      <td>City of Troy</td>\n",
       "      <td>Michigan</td>\n",
       "      <td>Kresge Foundation Headquarters</td>\n",
       "      <td>NaN</td>\n",
       "      <td>NaN</td>\n",
       "      <td>nan</td>\n",
       "      <td>1,116,000.00</td>\n",
       "    </tr>\n",
       "    <tr>\n",
       "      <th>129</th>\n",
       "      <td>City of Inkster</td>\n",
       "      <td>Michigan</td>\n",
       "      <td>Inkster Valley Constructed Wetlands Project</td>\n",
       "      <td>NaN</td>\n",
       "      <td>NaN</td>\n",
       "      <td>nan</td>\n",
       "      <td>464,826.00</td>\n",
       "    </tr>\n",
       "    <tr>\n",
       "      <th>143</th>\n",
       "      <td>Bloomfield Township</td>\n",
       "      <td>Michigan</td>\n",
       "      <td>Meadowlake Farms Bioswale</td>\n",
       "      <td>NaN</td>\n",
       "      <td>NaN</td>\n",
       "      <td>nan</td>\n",
       "      <td>63,000.00</td>\n",
       "    </tr>\n",
       "    <tr>\n",
       "      <th>147</th>\n",
       "      <td>City of Wayne</td>\n",
       "      <td>Michigan</td>\n",
       "      <td>Constructed Linear Sand Filter</td>\n",
       "      <td>NaN</td>\n",
       "      <td>NaN</td>\n",
       "      <td>nan</td>\n",
       "      <td>10,000.00</td>\n",
       "    </tr>\n",
       "    <tr>\n",
       "      <th>149</th>\n",
       "      <td>Mount Clemens</td>\n",
       "      <td>Michigan</td>\n",
       "      <td>Macomb County Public Works Riparian Corridor P...</td>\n",
       "      <td>NaN</td>\n",
       "      <td>NaN</td>\n",
       "      <td>nan</td>\n",
       "      <td>nan</td>\n",
       "    </tr>\n",
       "  </tbody>\n",
       "</table>\n",
       "</div>"
      ],
      "text/plain": [
       "                    CITY     STATE  \\\n",
       "2                Pontiac  Michigan   \n",
       "36             Ann Arbor  Michigan   \n",
       "125         City of Troy  Michigan   \n",
       "129      City of Inkster  Michigan   \n",
       "143  Bloomfield Township  Michigan   \n",
       "147        City of Wayne  Michigan   \n",
       "149        Mount Clemens  Michigan   \n",
       "\n",
       "                                      CASE STUDY TITLE FINANCIAL SOURCE  \\\n",
       "2                               Oakland County Campus               NaN   \n",
       "36    Ann Arbor District Library, Mallets Creek Branch              NaN   \n",
       "125                     Kresge Foundation Headquarters              NaN   \n",
       "129        Inkster Valley Constructed Wetlands Project              NaN   \n",
       "143                          Meadowlake Farms Bioswale              NaN   \n",
       "147                     Constructed Linear Sand Filter              NaN   \n",
       "149  Macomb County Public Works Riparian Corridor P...              NaN   \n",
       "\n",
       "    FINANCIAL TOOL  Size/ Capture area (Sq. feet)          GI COST (2)  \n",
       "2              NaN                   6,141,960.00           204,000.00  \n",
       "36             NaN                     108,900.00            70,000.00  \n",
       "125            NaN                            nan         1,116,000.00  \n",
       "129            NaN                            nan           464,826.00  \n",
       "143            NaN                            nan            63,000.00  \n",
       "147            NaN                            nan            10,000.00  \n",
       "149            NaN                            nan                  nan  "
      ]
     },
     "execution_count": 38,
     "metadata": {},
     "output_type": "execute_result"
    }
   ],
   "source": [
    "rain[rain['FINANCIAL SOURCE'].isnull()]  #these cases have no information attached"
   ]
  },
  {
   "cell_type": "code",
   "execution_count": 39,
   "metadata": {},
   "outputs": [
    {
     "name": "stdout",
     "output_type": "stream",
     "text": [
      "These are all Michigan cases;  35.0 % of them\n"
     ]
    }
   ],
   "source": [
    "print('These are all Michigan cases; ',(rain[rain['FINANCIAL SOURCE'].isnull()]['STATE'].count())/(rain[rain['STATE']=='Michigan']['STATE'].count()) * 100,'% of them')"
   ]
  },
  {
   "cell_type": "code",
   "execution_count": 40,
   "metadata": {},
   "outputs": [],
   "source": [
    "rain = rain[rain['FINANCIAL SOURCE'].notnull()]"
   ]
  },
  {
   "cell_type": "code",
   "execution_count": 41,
   "metadata": {},
   "outputs": [
    {
     "name": "stdout",
     "output_type": "stream",
     "text": [
      "New Row Count: 143\n",
      "Lost: 7 rows\n"
     ]
    }
   ],
   "source": [
    "print('New Row Count:',rain.shape[0])\n",
    "print('Lost:',150-rain.shape[0],'rows')"
   ]
  },
  {
   "cell_type": "code",
   "execution_count": 42,
   "metadata": {},
   "outputs": [
    {
     "name": "stdout",
     "output_type": "stream",
     "text": [
      "There are 24 cases missing project size\n",
      "There are 1 cases missing project cost\n"
     ]
    }
   ],
   "source": [
    "print('There are',sum(rain['Size/ Capture area (Sq. feet)'].isnull()),'cases missing project size')\n",
    "print('There are',sum(rain['GI COST (2)'].isnull()),'cases missing project cost')"
   ]
  },
  {
   "cell_type": "code",
   "execution_count": 43,
   "metadata": {
    "scrolled": false
   },
   "outputs": [
    {
     "data": {
      "text/html": [
       "<div>\n",
       "<style scoped>\n",
       "    .dataframe tbody tr th:only-of-type {\n",
       "        vertical-align: middle;\n",
       "    }\n",
       "\n",
       "    .dataframe tbody tr th {\n",
       "        vertical-align: top;\n",
       "    }\n",
       "\n",
       "    .dataframe thead th {\n",
       "        text-align: right;\n",
       "    }\n",
       "</style>\n",
       "<table border=\"1\" class=\"dataframe\">\n",
       "  <thead>\n",
       "    <tr style=\"text-align: right;\">\n",
       "      <th></th>\n",
       "      <th>CITY</th>\n",
       "      <th>STATE</th>\n",
       "      <th>CASE STUDY TITLE</th>\n",
       "      <th>FINANCIAL SOURCE</th>\n",
       "      <th>FINANCIAL TOOL</th>\n",
       "      <th>Size/ Capture area (Sq. feet)</th>\n",
       "      <th>GI COST (2)</th>\n",
       "    </tr>\n",
       "  </thead>\n",
       "  <tbody>\n",
       "    <tr>\n",
       "      <th>121</th>\n",
       "      <td>St. Paul</td>\n",
       "      <td>Minnesota</td>\n",
       "      <td>The Metro Green Line</td>\n",
       "      <td>Public funding</td>\n",
       "      <td>Grants</td>\n",
       "      <td>nan</td>\n",
       "      <td>5,114,865.00</td>\n",
       "    </tr>\n",
       "    <tr>\n",
       "      <th>122</th>\n",
       "      <td>Aiken</td>\n",
       "      <td>South Carolina</td>\n",
       "      <td>Sand River Headwaters Green Infrastructure Pro...</td>\n",
       "      <td>Public</td>\n",
       "      <td>Grants (Various)</td>\n",
       "      <td>nan</td>\n",
       "      <td>3,759,546.00</td>\n",
       "    </tr>\n",
       "    <tr>\n",
       "      <th>123</th>\n",
       "      <td>Portland</td>\n",
       "      <td>Oregon</td>\n",
       "      <td>SW Texas Green Street</td>\n",
       "      <td>Mixed</td>\n",
       "      <td>Private donations and sponsorships, and grants</td>\n",
       "      <td>nan</td>\n",
       "      <td>2,319,000.00</td>\n",
       "    </tr>\n",
       "    <tr>\n",
       "      <th>124</th>\n",
       "      <td>Milwaukee</td>\n",
       "      <td>Wisconsin</td>\n",
       "      <td>Menomonee Valley Industrial Center</td>\n",
       "      <td>Public</td>\n",
       "      <td>Grants</td>\n",
       "      <td>nan</td>\n",
       "      <td>1,600,000.00</td>\n",
       "    </tr>\n",
       "    <tr>\n",
       "      <th>126</th>\n",
       "      <td>South Shore</td>\n",
       "      <td>Massachusetts</td>\n",
       "      <td>North and South Rivers Watershed Association R...</td>\n",
       "      <td>Public</td>\n",
       "      <td>Grant</td>\n",
       "      <td>nan</td>\n",
       "      <td>825,170.00</td>\n",
       "    </tr>\n",
       "    <tr>\n",
       "      <th>127</th>\n",
       "      <td>Lancaster</td>\n",
       "      <td>Pennsylvania</td>\n",
       "      <td>Lancaster Parking Lot Transformations</td>\n",
       "      <td>Mixed</td>\n",
       "      <td>Grant, loan</td>\n",
       "      <td>nan</td>\n",
       "      <td>640,000.00</td>\n",
       "    </tr>\n",
       "    <tr>\n",
       "      <th>128</th>\n",
       "      <td>New York</td>\n",
       "      <td>New York</td>\n",
       "      <td>Queens Botanical Garden</td>\n",
       "      <td>Mixed</td>\n",
       "      <td>Public funding and private donations</td>\n",
       "      <td>nan</td>\n",
       "      <td>568,000.00</td>\n",
       "    </tr>\n",
       "    <tr>\n",
       "      <th>130</th>\n",
       "      <td>Waltham</td>\n",
       "      <td>Massachusetts</td>\n",
       "      <td>Waltham Watch Factory</td>\n",
       "      <td>Mixed</td>\n",
       "      <td>Taxes, loans and private funding</td>\n",
       "      <td>nan</td>\n",
       "      <td>434,600.00</td>\n",
       "    </tr>\n",
       "    <tr>\n",
       "      <th>131</th>\n",
       "      <td>Syracuse</td>\n",
       "      <td>New York</td>\n",
       "      <td>Lysander Tree Planting, Manhole Repair &amp; Pipe ...</td>\n",
       "      <td>Public</td>\n",
       "      <td>Grants</td>\n",
       "      <td>nan</td>\n",
       "      <td>400,000.00</td>\n",
       "    </tr>\n",
       "    <tr>\n",
       "      <th>132</th>\n",
       "      <td>Grand Rapids</td>\n",
       "      <td>Michigan</td>\n",
       "      <td>Plainfield Avenue</td>\n",
       "      <td>Mixed</td>\n",
       "      <td>Grants, PPP, private donations &amp; sponsorships</td>\n",
       "      <td>nan</td>\n",
       "      <td>330,887.00</td>\n",
       "    </tr>\n",
       "    <tr>\n",
       "      <th>133</th>\n",
       "      <td>St. Landry Parish</td>\n",
       "      <td>Louisiana</td>\n",
       "      <td>St. Landry Parish Visitor's Center</td>\n",
       "      <td>Public</td>\n",
       "      <td>NaN</td>\n",
       "      <td>nan</td>\n",
       "      <td>330,000.00</td>\n",
       "    </tr>\n",
       "    <tr>\n",
       "      <th>134</th>\n",
       "      <td>Syracuse</td>\n",
       "      <td>New York</td>\n",
       "      <td>Town of Dewitt – Willis Carrier Recreation Center</td>\n",
       "      <td>Public</td>\n",
       "      <td>Grants</td>\n",
       "      <td>nan</td>\n",
       "      <td>300,000.00</td>\n",
       "    </tr>\n",
       "    <tr>\n",
       "      <th>135</th>\n",
       "      <td>Toledo</td>\n",
       "      <td>Ohio</td>\n",
       "      <td>Maywood Ave, Green Streets Revitalization</td>\n",
       "      <td>Public</td>\n",
       "      <td>Loans</td>\n",
       "      <td>nan</td>\n",
       "      <td>278,000.00</td>\n",
       "    </tr>\n",
       "    <tr>\n",
       "      <th>136</th>\n",
       "      <td>Syracuse</td>\n",
       "      <td>New York</td>\n",
       "      <td>Town of Geddes – Bergner Road Porous Pavement ...</td>\n",
       "      <td>Public</td>\n",
       "      <td>Grants</td>\n",
       "      <td>nan</td>\n",
       "      <td>210,000.00</td>\n",
       "    </tr>\n",
       "    <tr>\n",
       "      <th>137</th>\n",
       "      <td>San Francisco</td>\n",
       "      <td>California</td>\n",
       "      <td>Mint Plaza</td>\n",
       "      <td>Mixed</td>\n",
       "      <td>Taxes, bonds, private donations</td>\n",
       "      <td>nan</td>\n",
       "      <td>150,000.00</td>\n",
       "    </tr>\n",
       "    <tr>\n",
       "      <th>138</th>\n",
       "      <td>Syracuse</td>\n",
       "      <td>New York</td>\n",
       "      <td>Street Tree Plantings</td>\n",
       "      <td>Public</td>\n",
       "      <td>Grants</td>\n",
       "      <td>nan</td>\n",
       "      <td>122,352.00</td>\n",
       "    </tr>\n",
       "    <tr>\n",
       "      <th>139</th>\n",
       "      <td>Syracuse</td>\n",
       "      <td>New York</td>\n",
       "      <td>Solvay Highway Garage</td>\n",
       "      <td>Public</td>\n",
       "      <td>Grants</td>\n",
       "      <td>nan</td>\n",
       "      <td>110,000.00</td>\n",
       "    </tr>\n",
       "    <tr>\n",
       "      <th>140</th>\n",
       "      <td>Syracuse</td>\n",
       "      <td>New York</td>\n",
       "      <td>Street Tree Contract</td>\n",
       "      <td>Public</td>\n",
       "      <td>Grants</td>\n",
       "      <td>nan</td>\n",
       "      <td>108,827.00</td>\n",
       "    </tr>\n",
       "    <tr>\n",
       "      <th>141</th>\n",
       "      <td>Syracuse</td>\n",
       "      <td>New York</td>\n",
       "      <td>Solvay Trump &amp; Power</td>\n",
       "      <td>Public</td>\n",
       "      <td>Grants</td>\n",
       "      <td>nan</td>\n",
       "      <td>80,000.00</td>\n",
       "    </tr>\n",
       "    <tr>\n",
       "      <th>142</th>\n",
       "      <td>Seattle</td>\n",
       "      <td>Washington</td>\n",
       "      <td>14th Avenue Neighborhood Street Fund Project</td>\n",
       "      <td>Public</td>\n",
       "      <td>Taxes</td>\n",
       "      <td>nan</td>\n",
       "      <td>75,000.00</td>\n",
       "    </tr>\n",
       "    <tr>\n",
       "      <th>144</th>\n",
       "      <td>Syracuse</td>\n",
       "      <td>New York</td>\n",
       "      <td>Rain Barrel Program</td>\n",
       "      <td>Public</td>\n",
       "      <td>Grants</td>\n",
       "      <td>nan</td>\n",
       "      <td>35,937.00</td>\n",
       "    </tr>\n",
       "    <tr>\n",
       "      <th>145</th>\n",
       "      <td>City of Wayne</td>\n",
       "      <td>Michigan</td>\n",
       "      <td>Nankin Mills Interpretive Center Grow Zone Pro...</td>\n",
       "      <td>Mixed</td>\n",
       "      <td>Grant, Private donations and sponsorships</td>\n",
       "      <td>nan</td>\n",
       "      <td>18,119.00</td>\n",
       "    </tr>\n",
       "    <tr>\n",
       "      <th>146</th>\n",
       "      <td>Syracuse</td>\n",
       "      <td>New York</td>\n",
       "      <td>Tree Enhancement in Burnet Park</td>\n",
       "      <td>Public</td>\n",
       "      <td>Grants</td>\n",
       "      <td>nan</td>\n",
       "      <td>11,480.00</td>\n",
       "    </tr>\n",
       "    <tr>\n",
       "      <th>148</th>\n",
       "      <td>City of Wayne</td>\n",
       "      <td>Michigan</td>\n",
       "      <td>Ford Road</td>\n",
       "      <td>Mixed</td>\n",
       "      <td>Private donations and sponsorships</td>\n",
       "      <td>nan</td>\n",
       "      <td>8,584.00</td>\n",
       "    </tr>\n",
       "  </tbody>\n",
       "</table>\n",
       "</div>"
      ],
      "text/plain": [
       "                  CITY           STATE  \\\n",
       "121           St. Paul       Minnesota   \n",
       "122              Aiken  South Carolina   \n",
       "123           Portland          Oregon   \n",
       "124          Milwaukee       Wisconsin   \n",
       "126        South Shore   Massachusetts   \n",
       "127         Lancaster     Pennsylvania   \n",
       "128           New York        New York   \n",
       "130            Waltham   Massachusetts   \n",
       "131           Syracuse        New York   \n",
       "132       Grand Rapids        Michigan   \n",
       "133  St. Landry Parish       Louisiana   \n",
       "134           Syracuse        New York   \n",
       "135             Toledo            Ohio   \n",
       "136           Syracuse        New York   \n",
       "137      San Francisco      California   \n",
       "138           Syracuse        New York   \n",
       "139           Syracuse        New York   \n",
       "140           Syracuse        New York   \n",
       "141           Syracuse        New York   \n",
       "142            Seattle      Washington   \n",
       "144           Syracuse        New York   \n",
       "145      City of Wayne        Michigan   \n",
       "146           Syracuse        New York   \n",
       "148      City of Wayne        Michigan   \n",
       "\n",
       "                                      CASE STUDY TITLE FINANCIAL SOURCE  \\\n",
       "121                               The Metro Green Line  Public funding    \n",
       "122  Sand River Headwaters Green Infrastructure Pro...           Public   \n",
       "123                              SW Texas Green Street            Mixed   \n",
       "124                 Menomonee Valley Industrial Center           Public   \n",
       "126  North and South Rivers Watershed Association R...           Public   \n",
       "127              Lancaster Parking Lot Transformations            Mixed   \n",
       "128                            Queens Botanical Garden            Mixed   \n",
       "130                              Waltham Watch Factory            Mixed   \n",
       "131  Lysander Tree Planting, Manhole Repair & Pipe ...           Public   \n",
       "132                                  Plainfield Avenue            Mixed   \n",
       "133                 St. Landry Parish Visitor's Center           Public   \n",
       "134  Town of Dewitt – Willis Carrier Recreation Center           Public   \n",
       "135          Maywood Ave, Green Streets Revitalization           Public   \n",
       "136  Town of Geddes – Bergner Road Porous Pavement ...           Public   \n",
       "137                                         Mint Plaza            Mixed   \n",
       "138                             Street Tree Plantings            Public   \n",
       "139                              Solvay Highway Garage           Public   \n",
       "140                              Street Tree Contract            Public   \n",
       "141                               Solvay Trump & Power           Public   \n",
       "142       14th Avenue Neighborhood Street Fund Project           Public   \n",
       "144                                Rain Barrel Program           Public   \n",
       "145  Nankin Mills Interpretive Center Grow Zone Pro...            Mixed   \n",
       "146                    Tree Enhancement in Burnet Park           Public   \n",
       "148                                         Ford Road             Mixed   \n",
       "\n",
       "                                     FINANCIAL TOOL  \\\n",
       "121                                          Grants   \n",
       "122                                Grants (Various)   \n",
       "123  Private donations and sponsorships, and grants   \n",
       "124                                          Grants   \n",
       "126                                           Grant   \n",
       "127                                     Grant, loan   \n",
       "128            Public funding and private donations   \n",
       "130                Taxes, loans and private funding   \n",
       "131                                          Grants   \n",
       "132  Grants, PPP, private donations & sponsorships    \n",
       "133                                             NaN   \n",
       "134                                          Grants   \n",
       "135                                           Loans   \n",
       "136                                          Grants   \n",
       "137                 Taxes, bonds, private donations   \n",
       "138                                          Grants   \n",
       "139                                          Grants   \n",
       "140                                          Grants   \n",
       "141                                          Grants   \n",
       "142                                           Taxes   \n",
       "144                                          Grants   \n",
       "145       Grant, Private donations and sponsorships   \n",
       "146                                          Grants   \n",
       "148              Private donations and sponsorships   \n",
       "\n",
       "     Size/ Capture area (Sq. feet)          GI COST (2)  \n",
       "121                            nan         5,114,865.00  \n",
       "122                            nan         3,759,546.00  \n",
       "123                            nan         2,319,000.00  \n",
       "124                            nan         1,600,000.00  \n",
       "126                            nan           825,170.00  \n",
       "127                            nan           640,000.00  \n",
       "128                            nan           568,000.00  \n",
       "130                            nan           434,600.00  \n",
       "131                            nan           400,000.00  \n",
       "132                            nan           330,887.00  \n",
       "133                            nan           330,000.00  \n",
       "134                            nan           300,000.00  \n",
       "135                            nan           278,000.00  \n",
       "136                            nan           210,000.00  \n",
       "137                            nan           150,000.00  \n",
       "138                            nan           122,352.00  \n",
       "139                            nan           110,000.00  \n",
       "140                            nan           108,827.00  \n",
       "141                            nan            80,000.00  \n",
       "142                            nan            75,000.00  \n",
       "144                            nan            35,937.00  \n",
       "145                            nan            18,119.00  \n",
       "146                            nan            11,480.00  \n",
       "148                            nan             8,584.00  "
      ]
     },
     "execution_count": 43,
     "metadata": {},
     "output_type": "execute_result"
    }
   ],
   "source": [
    "rain[rain['Size/ Capture area (Sq. feet)'].isnull()]"
   ]
  },
  {
   "cell_type": "code",
   "execution_count": 44,
   "metadata": {},
   "outputs": [
    {
     "data": {
      "text/html": [
       "<div>\n",
       "<style scoped>\n",
       "    .dataframe tbody tr th:only-of-type {\n",
       "        vertical-align: middle;\n",
       "    }\n",
       "\n",
       "    .dataframe tbody tr th {\n",
       "        vertical-align: top;\n",
       "    }\n",
       "\n",
       "    .dataframe thead th {\n",
       "        text-align: right;\n",
       "    }\n",
       "</style>\n",
       "<table border=\"1\" class=\"dataframe\">\n",
       "  <thead>\n",
       "    <tr style=\"text-align: right;\">\n",
       "      <th></th>\n",
       "      <th>CITY</th>\n",
       "      <th>STATE</th>\n",
       "      <th>CASE STUDY TITLE</th>\n",
       "      <th>FINANCIAL SOURCE</th>\n",
       "      <th>FINANCIAL TOOL</th>\n",
       "      <th>Size/ Capture area (Sq. feet)</th>\n",
       "      <th>GI COST (2)</th>\n",
       "    </tr>\n",
       "  </thead>\n",
       "  <tbody>\n",
       "    <tr>\n",
       "      <th>28</th>\n",
       "      <td>Ann Arbor</td>\n",
       "      <td>Michigan</td>\n",
       "      <td>Washtenaw County West Service Center</td>\n",
       "      <td>Public</td>\n",
       "      <td>Bonds</td>\n",
       "      <td>133,293.60</td>\n",
       "      <td>nan</td>\n",
       "    </tr>\n",
       "  </tbody>\n",
       "</table>\n",
       "</div>"
      ],
      "text/plain": [
       "         CITY     STATE                      CASE STUDY TITLE  \\\n",
       "28  Ann Arbor  Michigan  Washtenaw County West Service Center   \n",
       "\n",
       "   FINANCIAL SOURCE FINANCIAL TOOL  Size/ Capture area (Sq. feet)  \\\n",
       "28           Public          Bonds                     133,293.60   \n",
       "\n",
       "            GI COST (2)  \n",
       "28                  nan  "
      ]
     },
     "execution_count": 44,
     "metadata": {},
     "output_type": "execute_result"
    }
   ],
   "source": [
    "rain[rain['GI COST (2)'].isnull()]"
   ]
  },
  {
   "cell_type": "code",
   "execution_count": 45,
   "metadata": {},
   "outputs": [],
   "source": [
    "rain = rain[rain['Size/ Capture area (Sq. feet)'].notnull()]\n",
    "rain = rain[rain['GI COST (2)'].notnull()]"
   ]
  },
  {
   "cell_type": "code",
   "execution_count": 46,
   "metadata": {},
   "outputs": [
    {
     "name": "stdout",
     "output_type": "stream",
     "text": [
      "New Row Count: 118\n",
      "Lost: 25 rows\n",
      "Total Rows Lost: 32\n"
     ]
    }
   ],
   "source": [
    "print('New Row Count:',rain.shape[0])\n",
    "print('Lost:',143-rain.shape[0],'rows')\n",
    "print('Total Rows Lost:',7+(143-rain.shape[0]))"
   ]
  },
  {
   "cell_type": "code",
   "execution_count": 47,
   "metadata": {},
   "outputs": [
    {
     "data": {
      "text/html": [
       "<div>\n",
       "<style scoped>\n",
       "    .dataframe tbody tr th:only-of-type {\n",
       "        vertical-align: middle;\n",
       "    }\n",
       "\n",
       "    .dataframe tbody tr th {\n",
       "        vertical-align: top;\n",
       "    }\n",
       "\n",
       "    .dataframe thead th {\n",
       "        text-align: right;\n",
       "    }\n",
       "</style>\n",
       "<table border=\"1\" class=\"dataframe\">\n",
       "  <thead>\n",
       "    <tr style=\"text-align: right;\">\n",
       "      <th></th>\n",
       "      <th>Size/ Capture area (Sq. feet)</th>\n",
       "      <th>GI COST (2)</th>\n",
       "    </tr>\n",
       "  </thead>\n",
       "  <tbody>\n",
       "    <tr>\n",
       "      <th>count</th>\n",
       "      <td>118.00</td>\n",
       "      <td>118.00</td>\n",
       "    </tr>\n",
       "    <tr>\n",
       "      <th>mean</th>\n",
       "      <td>439,329.80</td>\n",
       "      <td>521,435.27</td>\n",
       "    </tr>\n",
       "    <tr>\n",
       "      <th>std</th>\n",
       "      <td>2,811,356.63</td>\n",
       "      <td>1,429,508.70</td>\n",
       "    </tr>\n",
       "    <tr>\n",
       "      <th>min</th>\n",
       "      <td>282.00</td>\n",
       "      <td>2,875.00</td>\n",
       "    </tr>\n",
       "    <tr>\n",
       "      <th>25%</th>\n",
       "      <td>13,090.00</td>\n",
       "      <td>106,688.25</td>\n",
       "    </tr>\n",
       "    <tr>\n",
       "      <th>50%</th>\n",
       "      <td>39,500.00</td>\n",
       "      <td>212,102.50</td>\n",
       "    </tr>\n",
       "    <tr>\n",
       "      <th>75%</th>\n",
       "      <td>129,264.25</td>\n",
       "      <td>439,951.75</td>\n",
       "    </tr>\n",
       "    <tr>\n",
       "      <th>max</th>\n",
       "      <td>29,620,800.00</td>\n",
       "      <td>14,700,000.00</td>\n",
       "    </tr>\n",
       "  </tbody>\n",
       "</table>\n",
       "</div>"
      ],
      "text/plain": [
       "       Size/ Capture area (Sq. feet)          GI COST (2)\n",
       "count                         118.00               118.00\n",
       "mean                      439,329.80           521,435.27\n",
       "std                     2,811,356.63         1,429,508.70\n",
       "min                           282.00             2,875.00\n",
       "25%                        13,090.00           106,688.25\n",
       "50%                        39,500.00           212,102.50\n",
       "75%                       129,264.25           439,951.75\n",
       "max                    29,620,800.00        14,700,000.00"
      ]
     },
     "execution_count": 47,
     "metadata": {},
     "output_type": "execute_result"
    }
   ],
   "source": [
    "rain[['Size/ Capture area (Sq. feet)','GI COST (2)']].describe()"
   ]
  },
  {
   "cell_type": "code",
   "execution_count": 48,
   "metadata": {},
   "outputs": [
    {
     "data": {
      "text/html": [
       "<div>\n",
       "<style scoped>\n",
       "    .dataframe tbody tr th:only-of-type {\n",
       "        vertical-align: middle;\n",
       "    }\n",
       "\n",
       "    .dataframe tbody tr th {\n",
       "        vertical-align: top;\n",
       "    }\n",
       "\n",
       "    .dataframe thead th {\n",
       "        text-align: right;\n",
       "    }\n",
       "</style>\n",
       "<table border=\"1\" class=\"dataframe\">\n",
       "  <thead>\n",
       "    <tr style=\"text-align: right;\">\n",
       "      <th></th>\n",
       "      <th>Cost/Sqft</th>\n",
       "    </tr>\n",
       "  </thead>\n",
       "  <tbody>\n",
       "    <tr>\n",
       "      <th>count</th>\n",
       "      <td>118.00</td>\n",
       "    </tr>\n",
       "    <tr>\n",
       "      <th>mean</th>\n",
       "      <td>14.12</td>\n",
       "    </tr>\n",
       "    <tr>\n",
       "      <th>std</th>\n",
       "      <td>47.94</td>\n",
       "    </tr>\n",
       "    <tr>\n",
       "      <th>min</th>\n",
       "      <td>0.02</td>\n",
       "    </tr>\n",
       "    <tr>\n",
       "      <th>25%</th>\n",
       "      <td>2.79</td>\n",
       "    </tr>\n",
       "    <tr>\n",
       "      <th>50%</th>\n",
       "      <td>5.91</td>\n",
       "    </tr>\n",
       "    <tr>\n",
       "      <th>75%</th>\n",
       "      <td>10.60</td>\n",
       "    </tr>\n",
       "    <tr>\n",
       "      <th>max</th>\n",
       "      <td>500.00</td>\n",
       "    </tr>\n",
       "  </tbody>\n",
       "</table>\n",
       "</div>"
      ],
      "text/plain": [
       "                 Cost/Sqft\n",
       "count               118.00\n",
       "mean                 14.12\n",
       "std                  47.94\n",
       "min                   0.02\n",
       "25%                   2.79\n",
       "50%                   5.91\n",
       "75%                  10.60\n",
       "max                 500.00"
      ]
     },
     "execution_count": 48,
     "metadata": {},
     "output_type": "execute_result"
    }
   ],
   "source": [
    "rain['Cost/Sqft'] = rain['GI COST (2)'] / rain['Size/ Capture area (Sq. feet)']\n",
    "rain[['Cost/Sqft']].describe()"
   ]
  },
  {
   "cell_type": "code",
   "execution_count": 49,
   "metadata": {},
   "outputs": [
    {
     "data": {
      "text/html": [
       "<div>\n",
       "<style scoped>\n",
       "    .dataframe tbody tr th:only-of-type {\n",
       "        vertical-align: middle;\n",
       "    }\n",
       "\n",
       "    .dataframe tbody tr th {\n",
       "        vertical-align: top;\n",
       "    }\n",
       "\n",
       "    .dataframe thead th {\n",
       "        text-align: right;\n",
       "    }\n",
       "</style>\n",
       "<table border=\"1\" class=\"dataframe\">\n",
       "  <thead>\n",
       "    <tr style=\"text-align: right;\">\n",
       "      <th></th>\n",
       "      <th>Size/ Capture area (Sq. feet)</th>\n",
       "      <th>GI COST (2)</th>\n",
       "    </tr>\n",
       "  </thead>\n",
       "  <tbody>\n",
       "    <tr>\n",
       "      <th>count</th>\n",
       "      <td>96.00</td>\n",
       "      <td>96.00</td>\n",
       "    </tr>\n",
       "    <tr>\n",
       "      <th>mean</th>\n",
       "      <td>117,355.70</td>\n",
       "      <td>361,419.03</td>\n",
       "    </tr>\n",
       "    <tr>\n",
       "      <th>std</th>\n",
       "      <td>250,713.07</td>\n",
       "      <td>555,741.13</td>\n",
       "    </tr>\n",
       "    <tr>\n",
       "      <th>min</th>\n",
       "      <td>560.00</td>\n",
       "      <td>2,875.00</td>\n",
       "    </tr>\n",
       "    <tr>\n",
       "      <th>25%</th>\n",
       "      <td>13,840.00</td>\n",
       "      <td>102,344.50</td>\n",
       "    </tr>\n",
       "    <tr>\n",
       "      <th>50%</th>\n",
       "      <td>39,000.00</td>\n",
       "      <td>208,400.00</td>\n",
       "    </tr>\n",
       "    <tr>\n",
       "      <th>75%</th>\n",
       "      <td>101,685.50</td>\n",
       "      <td>385,000.00</td>\n",
       "    </tr>\n",
       "    <tr>\n",
       "      <th>max</th>\n",
       "      <td>1,966,000.00</td>\n",
       "      <td>4,519,790.65</td>\n",
       "    </tr>\n",
       "  </tbody>\n",
       "</table>\n",
       "</div>"
      ],
      "text/plain": [
       "       Size/ Capture area (Sq. feet)          GI COST (2)\n",
       "count                          96.00                96.00\n",
       "mean                      117,355.70           361,419.03\n",
       "std                       250,713.07           555,741.13\n",
       "min                           560.00             2,875.00\n",
       "25%                        13,840.00           102,344.50\n",
       "50%                        39,000.00           208,400.00\n",
       "75%                       101,685.50           385,000.00\n",
       "max                     1,966,000.00         4,519,790.65"
      ]
     },
     "execution_count": 49,
     "metadata": {},
     "output_type": "execute_result"
    }
   ],
   "source": [
    "syracuse = rain[rain['CITY']=='Syracuse']\n",
    "syracuse[['Size/ Capture area (Sq. feet)','GI COST (2)']].describe()"
   ]
  },
  {
   "cell_type": "code",
   "execution_count": 50,
   "metadata": {},
   "outputs": [
    {
     "data": {
      "text/html": [
       "<div>\n",
       "<style scoped>\n",
       "    .dataframe tbody tr th:only-of-type {\n",
       "        vertical-align: middle;\n",
       "    }\n",
       "\n",
       "    .dataframe tbody tr th {\n",
       "        vertical-align: top;\n",
       "    }\n",
       "\n",
       "    .dataframe thead th {\n",
       "        text-align: right;\n",
       "    }\n",
       "</style>\n",
       "<table border=\"1\" class=\"dataframe\">\n",
       "  <thead>\n",
       "    <tr style=\"text-align: right;\">\n",
       "      <th></th>\n",
       "      <th>Size/ Capture area (Sq. feet)</th>\n",
       "      <th>GI COST (2)</th>\n",
       "    </tr>\n",
       "  </thead>\n",
       "  <tbody>\n",
       "    <tr>\n",
       "      <th>count</th>\n",
       "      <td>22.00</td>\n",
       "      <td>22.00</td>\n",
       "    </tr>\n",
       "    <tr>\n",
       "      <th>mean</th>\n",
       "      <td>1,844,307.68</td>\n",
       "      <td>1,219,687.95</td>\n",
       "    </tr>\n",
       "    <tr>\n",
       "      <th>std</th>\n",
       "      <td>6,419,409.88</td>\n",
       "      <td>3,059,442.85</td>\n",
       "    </tr>\n",
       "    <tr>\n",
       "      <th>min</th>\n",
       "      <td>282.00</td>\n",
       "      <td>33,042.00</td>\n",
       "    </tr>\n",
       "    <tr>\n",
       "      <th>25%</th>\n",
       "      <td>12,000.00</td>\n",
       "      <td>147,000.00</td>\n",
       "    </tr>\n",
       "    <tr>\n",
       "      <th>50%</th>\n",
       "      <td>98,010.00</td>\n",
       "      <td>398,500.00</td>\n",
       "    </tr>\n",
       "    <tr>\n",
       "      <th>75%</th>\n",
       "      <td>300,564.00</td>\n",
       "      <td>1,000,000.00</td>\n",
       "    </tr>\n",
       "    <tr>\n",
       "      <th>max</th>\n",
       "      <td>29,620,800.00</td>\n",
       "      <td>14,700,000.00</td>\n",
       "    </tr>\n",
       "  </tbody>\n",
       "</table>\n",
       "</div>"
      ],
      "text/plain": [
       "       Size/ Capture area (Sq. feet)          GI COST (2)\n",
       "count                          22.00                22.00\n",
       "mean                    1,844,307.68         1,219,687.95\n",
       "std                     6,419,409.88         3,059,442.85\n",
       "min                           282.00            33,042.00\n",
       "25%                        12,000.00           147,000.00\n",
       "50%                        98,010.00           398,500.00\n",
       "75%                       300,564.00         1,000,000.00\n",
       "max                    29,620,800.00        14,700,000.00"
      ]
     },
     "execution_count": 50,
     "metadata": {},
     "output_type": "execute_result"
    }
   ],
   "source": [
    "other = rain[rain['CITY']!='Syracuse']\n",
    "other[['Size/ Capture area (Sq. feet)','GI COST (2)']].describe()"
   ]
  },
  {
   "cell_type": "code",
   "execution_count": 51,
   "metadata": {},
   "outputs": [
    {
     "name": "stdout",
     "output_type": "stream",
     "text": [
      "Total awards = 61529361.720000006\n",
      "Total Syracuse awards = 34696226.72 ( 56.39 %)\n",
      "Total non-Syracuse awards = 26833135.0 ( 43.61 %)\n"
     ]
    }
   ],
   "source": [
    "print('Total awards =',sum(rain['GI COST (2)']))\n",
    "print('Total Syracuse awards =',sum(syracuse['GI COST (2)']),'(',round((sum(syracuse['GI COST (2)'])/sum(rain['GI COST (2)'])*100),2),'%)')\n",
    "print('Total non-Syracuse awards =',sum(other['GI COST (2)']),'(',round((sum(other['GI COST (2)'])/sum(rain['GI COST (2)'])*100),2),'%)')                                                                     "
   ]
  },
  {
   "cell_type": "code",
   "execution_count": 52,
   "metadata": {},
   "outputs": [
    {
     "name": "stdout",
     "output_type": "stream",
     "text": [
      "Total states represented =  9\n"
     ]
    }
   ],
   "source": [
    "print('Total states represented = ',len(other['STATE'].unique()))"
   ]
  },
  {
   "cell_type": "code",
   "execution_count": 53,
   "metadata": {
    "scrolled": true
   },
   "outputs": [
    {
     "data": {
      "text/plain": [
       "STATE\n",
       "Washington            14,700,000.00\n",
       "Michigan               4,962,600.00\n",
       "New Mexico             2,000,000.00\n",
       "Pennsylvania           1,377,000.00\n",
       "Illinois               1,300,000.00\n",
       "New York                 948,717.00\n",
       "Oregon                   624,818.00\n",
       "Arizona                  500,000.00\n",
       "Colorado                 420,000.00\n",
       "Name: GI COST (2), dtype: float64"
      ]
     },
     "execution_count": 53,
     "metadata": {},
     "output_type": "execute_result"
    }
   ],
   "source": [
    "other.groupby('STATE')['GI COST (2)'].sum().sort_values(ascending=False)"
   ]
  },
  {
   "cell_type": "code",
   "execution_count": 54,
   "metadata": {
    "scrolled": true
   },
   "outputs": [
    {
     "data": {
      "text/plain": [
       "STATE\n",
       "Michigan        9\n",
       "Oregon          5\n",
       "Pennsylvania    2\n",
       "Washington      1\n",
       "New York        1\n",
       "New Mexico      1\n",
       "Illinois        1\n",
       "Colorado        1\n",
       "Arizona         1\n",
       "Name: CITY, dtype: int64"
      ]
     },
     "execution_count": 54,
     "metadata": {},
     "output_type": "execute_result"
    }
   ],
   "source": [
    "other.groupby('STATE')['CITY'].count().sort_values(ascending=False)"
   ]
  },
  {
   "cell_type": "code",
   "execution_count": 55,
   "metadata": {
    "scrolled": false
   },
   "outputs": [
    {
     "data": {
      "text/html": [
       "<div>\n",
       "<style scoped>\n",
       "    .dataframe tbody tr th:only-of-type {\n",
       "        vertical-align: middle;\n",
       "    }\n",
       "\n",
       "    .dataframe tbody tr th {\n",
       "        vertical-align: top;\n",
       "    }\n",
       "\n",
       "    .dataframe thead th {\n",
       "        text-align: right;\n",
       "    }\n",
       "</style>\n",
       "<table border=\"1\" class=\"dataframe\">\n",
       "  <thead>\n",
       "    <tr style=\"text-align: right;\">\n",
       "      <th></th>\n",
       "      <th>count</th>\n",
       "      <th>mean</th>\n",
       "      <th>std</th>\n",
       "      <th>min</th>\n",
       "      <th>25%</th>\n",
       "      <th>50%</th>\n",
       "      <th>75%</th>\n",
       "      <th>max</th>\n",
       "    </tr>\n",
       "    <tr>\n",
       "      <th>FINANCIAL SOURCE</th>\n",
       "      <th></th>\n",
       "      <th></th>\n",
       "      <th></th>\n",
       "      <th></th>\n",
       "      <th></th>\n",
       "      <th></th>\n",
       "      <th></th>\n",
       "      <th></th>\n",
       "    </tr>\n",
       "  </thead>\n",
       "  <tbody>\n",
       "    <tr>\n",
       "      <th>Mixed</th>\n",
       "      <td>2.00</td>\n",
       "      <td>11.17</td>\n",
       "      <td>5.79</td>\n",
       "      <td>7.07</td>\n",
       "      <td>9.12</td>\n",
       "      <td>11.17</td>\n",
       "      <td>13.22</td>\n",
       "      <td>15.26</td>\n",
       "    </tr>\n",
       "    <tr>\n",
       "      <th>Public</th>\n",
       "      <td>94.00</td>\n",
       "      <td>8.07</td>\n",
       "      <td>9.26</td>\n",
       "      <td>0.02</td>\n",
       "      <td>2.93</td>\n",
       "      <td>5.91</td>\n",
       "      <td>9.39</td>\n",
       "      <td>70.74</td>\n",
       "    </tr>\n",
       "  </tbody>\n",
       "</table>\n",
       "</div>"
      ],
      "text/plain": [
       "                                count                 mean  \\\n",
       "FINANCIAL SOURCE                                             \n",
       "Mixed                            2.00                11.17   \n",
       "Public                          94.00                 8.07   \n",
       "\n",
       "                                  std                  min  \\\n",
       "FINANCIAL SOURCE                                             \n",
       "Mixed                            5.79                 7.07   \n",
       "Public                           9.26                 0.02   \n",
       "\n",
       "                                  25%                  50%  \\\n",
       "FINANCIAL SOURCE                                             \n",
       "Mixed                            9.12                11.17   \n",
       "Public                           2.93                 5.91   \n",
       "\n",
       "                                  75%                  max  \n",
       "FINANCIAL SOURCE                                            \n",
       "Mixed                           13.22                15.26  \n",
       "Public                           9.39                70.74  "
      ]
     },
     "execution_count": 55,
     "metadata": {},
     "output_type": "execute_result"
    }
   ],
   "source": [
    "syracuse_types = syracuse.groupby('FINANCIAL SOURCE')\n",
    "syracuse_types['Cost/Sqft'].describe()"
   ]
  },
  {
   "cell_type": "code",
   "execution_count": 56,
   "metadata": {
    "scrolled": false
   },
   "outputs": [
    {
     "data": {
      "text/plain": [
       "<matplotlib.axes._subplots.AxesSubplot at 0x7f6ea21da860>"
      ]
     },
     "execution_count": 56,
     "metadata": {},
     "output_type": "execute_result"
    },
    {
     "data": {
      "image/png": "[encoded data removed]",
      "text/plain": [
       "<matplotlib.figure.Figure at 0x7f6eb80f6630>"
      ]
     },
     "metadata": {},
     "output_type": "display_data"
    }
   ],
   "source": [
    "syracuse.boxplot('Cost/Sqft', by='FINANCIAL SOURCE', figsize=(12, 8))"
   ]
  },
  {
   "cell_type": "code",
   "execution_count": 57,
   "metadata": {
    "scrolled": false
   },
   "outputs": [
    {
     "data": {
      "text/html": [
       "<div>\n",
       "<style scoped>\n",
       "    .dataframe tbody tr th:only-of-type {\n",
       "        vertical-align: middle;\n",
       "    }\n",
       "\n",
       "    .dataframe tbody tr th {\n",
       "        vertical-align: top;\n",
       "    }\n",
       "\n",
       "    .dataframe thead th {\n",
       "        text-align: right;\n",
       "    }\n",
       "</style>\n",
       "<table border=\"1\" class=\"dataframe\">\n",
       "  <thead>\n",
       "    <tr style=\"text-align: right;\">\n",
       "      <th></th>\n",
       "      <th>count</th>\n",
       "      <th>mean</th>\n",
       "      <th>std</th>\n",
       "      <th>min</th>\n",
       "      <th>25%</th>\n",
       "      <th>50%</th>\n",
       "      <th>75%</th>\n",
       "      <th>max</th>\n",
       "    </tr>\n",
       "    <tr>\n",
       "      <th>FINANCIAL SOURCE</th>\n",
       "      <th></th>\n",
       "      <th></th>\n",
       "      <th></th>\n",
       "      <th></th>\n",
       "      <th></th>\n",
       "      <th></th>\n",
       "      <th></th>\n",
       "      <th></th>\n",
       "    </tr>\n",
       "  </thead>\n",
       "  <tbody>\n",
       "    <tr>\n",
       "      <th>Mixed</th>\n",
       "      <td>4.00</td>\n",
       "      <td>7.66</td>\n",
       "      <td>7.17</td>\n",
       "      <td>0.05</td>\n",
       "      <td>2.40</td>\n",
       "      <td>7.80</td>\n",
       "      <td>13.05</td>\n",
       "      <td>14.98</td>\n",
       "    </tr>\n",
       "    <tr>\n",
       "      <th>Private</th>\n",
       "      <td>1.00</td>\n",
       "      <td>18.27</td>\n",
       "      <td>nan</td>\n",
       "      <td>18.27</td>\n",
       "      <td>18.27</td>\n",
       "      <td>18.27</td>\n",
       "      <td>18.27</td>\n",
       "      <td>18.27</td>\n",
       "    </tr>\n",
       "    <tr>\n",
       "      <th>Public</th>\n",
       "      <td>17.00</td>\n",
       "      <td>49.21</td>\n",
       "      <td>121.50</td>\n",
       "      <td>0.14</td>\n",
       "      <td>2.30</td>\n",
       "      <td>2.91</td>\n",
       "      <td>31.58</td>\n",
       "      <td>500.00</td>\n",
       "    </tr>\n",
       "  </tbody>\n",
       "</table>\n",
       "</div>"
      ],
      "text/plain": [
       "                                count                 mean  \\\n",
       "FINANCIAL SOURCE                                             \n",
       "Mixed                            4.00                 7.66   \n",
       "Private                          1.00                18.27   \n",
       "Public                          17.00                49.21   \n",
       "\n",
       "                                  std                  min  \\\n",
       "FINANCIAL SOURCE                                             \n",
       "Mixed                            7.17                 0.05   \n",
       "Private                           nan                18.27   \n",
       "Public                         121.50                 0.14   \n",
       "\n",
       "                                  25%                  50%  \\\n",
       "FINANCIAL SOURCE                                             \n",
       "Mixed                            2.40                 7.80   \n",
       "Private                         18.27                18.27   \n",
       "Public                           2.30                 2.91   \n",
       "\n",
       "                                  75%                  max  \n",
       "FINANCIAL SOURCE                                            \n",
       "Mixed                           13.05                14.98  \n",
       "Private                         18.27                18.27  \n",
       "Public                          31.58               500.00  "
      ]
     },
     "execution_count": 57,
     "metadata": {},
     "output_type": "execute_result"
    }
   ],
   "source": [
    "other_types = other.groupby('FINANCIAL SOURCE')\n",
    "other_types['Cost/Sqft'].describe()"
   ]
  },
  {
   "cell_type": "code",
   "execution_count": 58,
   "metadata": {
    "scrolled": false
   },
   "outputs": [
    {
     "data": {
      "text/plain": [
       "<matplotlib.axes._subplots.AxesSubplot at 0x7f6ea21e5e80>"
      ]
     },
     "execution_count": 58,
     "metadata": {},
     "output_type": "execute_result"
    },
    {
     "data": {
      "image/png": "[encoded data removed]",
      "text/plain": [
       "<matplotlib.figure.Figure at 0x7f6ea219de10>"
      ]
     },
     "metadata": {},
     "output_type": "display_data"
    }
   ],
   "source": [
    "other.boxplot('Cost/Sqft', by='FINANCIAL SOURCE', figsize=(12, 8))"
   ]
  }
 ],
 "metadata": {
  "kernelspec": {
   "display_name": "Python 3.5",
   "language": "python",
   "name": "python3"
  },
  "language_info": {
   "codemirror_mode": {
    "name": "ipython",
    "version": 3
   },
   "file_extension": ".py",
   "mimetype": "text/x-python",
   "name": "python",
   "nbconvert_exporter": "python",
   "pygments_lexer": "ipython3",
   "version": "3.5.5"
  }
 },
 "nbformat": 4,
 "nbformat_minor": 1
}
